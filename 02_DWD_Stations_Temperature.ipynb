{
 "cells": [
  {
   "cell_type": "markdown",
   "metadata": {},
   "source": [
    "# Read DWD CDC Temp Time Series\n",
    "\n",
    "The main idea behind this activity is to see if there is a correlation between temperature and sales of the stores."
   ]
  },
  {
   "cell_type": "code",
   "execution_count": 59,
   "metadata": {},
   "outputs": [],
   "source": [
    "import datetime as dt\n",
    "import os\n",
    "import ftplib\n",
    "import pandas as pd\n",
    "import geopandas as gpd"
   ]
  },
  {
   "cell_type": "markdown",
   "metadata": {},
   "source": [
    "## FTP Connection"
   ]
  },
  {
   "cell_type": "markdown",
   "metadata": {},
   "source": [
    "### Connection Parameters"
   ]
  },
  {
   "cell_type": "code",
   "execution_count": 60,
   "metadata": {},
   "outputs": [],
   "source": [
    "server = \"opendata.dwd.de\"\n",
    "user   = \"anonymous\"\n",
    "passwd = \"\""
   ]
  },
  {
   "cell_type": "markdown",
   "metadata": {},
   "source": [
    "### FTP Directory Definition and Station Description Filename Pattern"
   ]
  },
  {
   "cell_type": "code",
   "execution_count": 61,
   "metadata": {},
   "outputs": [],
   "source": [
    "# The topic of interest.\n",
    "topic_dir = \"hourly/air_temperature/historical/\"\n",
    "\n",
    "# This is the search pattern common to ALL station description file names \n",
    "station_desc_pattern = \"_Beschreibung_Stationen.txt\"\n",
    "\n",
    "# Below this directory tree node all climate data are stored.\n",
    "ftp_climate_data_dir = \"/climate_environment/CDC/observations_germany/climate/\"\n",
    "ftp_dir =  ftp_climate_data_dir + topic_dir"
   ]
  },
  {
   "cell_type": "markdown",
   "metadata": {},
   "source": [
    "### Local Directories"
   ]
  },
  {
   "cell_type": "code",
   "execution_count": 62,
   "metadata": {},
   "outputs": [],
   "source": [
    "local_ftp_dir         = \"data/original/DWD/\"      # Local directory to store local ftp data copies, the local data source or input data. \n",
    "local_ftp_station_dir = local_ftp_dir + topic_dir # Local directory where local station info is located\n",
    "local_ftp_ts_dir      = local_ftp_dir + topic_dir # Local directory where time series downloaded from ftp are located\n",
    "\n",
    "local_generated_dir   = \"data/generated/DWD/\" # The generated of derived data in contrast to local_ftp_dir\n",
    "local_station_dir     = local_generated_dir + topic_dir # Derived station data, i.e. the CSV file\n",
    "local_ts_merged_dir   = local_generated_dir + topic_dir # Parallel merged time series, wide data frame with one TS per column\n",
    "local_ts_appended_dir = local_generated_dir + topic_dir # Serially appended time series, long data frame for QGIS TimeManager Plugin"
   ]
  },
  {
   "cell_type": "code",
   "execution_count": 63,
   "metadata": {},
   "outputs": [
    {
     "name": "stdout",
     "output_type": "stream",
     "text": [
      "data/original/DWD/\n",
      "data/original/DWD/hourly/air_temperature/historical/\n",
      "data/original/DWD/hourly/air_temperature/historical/\n",
      "\n",
      "data/generated/DWD/\n",
      "data/generated/DWD/hourly/air_temperature/historical/\n",
      "data/generated/DWD/hourly/air_temperature/historical/\n",
      "data/generated/DWD/hourly/air_temperature/historical/\n"
     ]
    }
   ],
   "source": [
    "print(local_ftp_dir)\n",
    "print(local_ftp_station_dir)\n",
    "print(local_ftp_ts_dir)\n",
    "print()\n",
    "print(local_generated_dir)\n",
    "print(local_station_dir)\n",
    "print(local_ts_merged_dir)\n",
    "print(local_ts_appended_dir)"
   ]
  },
  {
   "cell_type": "code",
   "execution_count": 64,
   "metadata": {},
   "outputs": [],
   "source": [
    "\n",
    "os.makedirs(local_ftp_dir,exist_ok = True) # it does not complain if the dir already exists.\n",
    "os.makedirs(local_ftp_station_dir,exist_ok = True)\n",
    "os.makedirs(local_ftp_ts_dir,exist_ok = True)\n",
    "\n",
    "os.makedirs(local_generated_dir,exist_ok = True)\n",
    "os.makedirs(local_station_dir,exist_ok = True)\n",
    "os.makedirs(local_ts_merged_dir,exist_ok = True)\n",
    "os.makedirs(local_ts_appended_dir,exist_ok = True)"
   ]
  },
  {
   "cell_type": "markdown",
   "metadata": {},
   "source": [
    "### FTP Connect"
   ]
  },
  {
   "cell_type": "code",
   "execution_count": 65,
   "metadata": {},
   "outputs": [
    {
     "name": "stdout",
     "output_type": "stream",
     "text": [
      "230 Login successful.\n"
     ]
    }
   ],
   "source": [
    "\n",
    "ftp = ftplib.FTP(server)\n",
    "res = ftp.login(user=user, passwd = passwd)\n",
    "print(res)"
   ]
  },
  {
   "cell_type": "code",
   "execution_count": 66,
   "metadata": {},
   "outputs": [],
   "source": [
    "ret = ftp.cwd(\".\")"
   ]
  },
  {
   "cell_type": "code",
   "execution_count": 67,
   "metadata": {},
   "outputs": [],
   "source": [
    "#ftp.quit()"
   ]
  },
  {
   "cell_type": "markdown",
   "metadata": {},
   "source": [
    "### FTP Grab File Function"
   ]
  },
  {
   "cell_type": "code",
   "execution_count": 68,
   "metadata": {},
   "outputs": [],
   "source": [
    "def grabFile(ftpfullname,localfullname):\n",
    "    try:\n",
    "        ret = ftp.cwd(\".\") # A dummy action to chack the connection and to provoke an exception if necessary.\n",
    "        localfile = open(localfullname, 'wb')\n",
    "        ftp.retrbinary('RETR ' + ftpfullname, localfile.write, 1024)\n",
    "        localfile.close()\n",
    "    \n",
    "    except ftplib.error_perm:\n",
    "        print(\"FTP ERROR. Operation not permitted. File not found?\")\n",
    "\n",
    "    except ftplib.error_temp:\n",
    "        print(\"FTP ERROR. Timeout.\")\n",
    "\n",
    "    except ConnectionAbortedError:\n",
    "        print(\"FTP ERROR. Connection aborted.\")\n",
    "\n"
   ]
  },
  {
   "cell_type": "markdown",
   "metadata": {},
   "source": [
    "### Generate Pandas Dataframe from FTP Directory Listing"
   ]
  },
  {
   "cell_type": "code",
   "execution_count": 69,
   "metadata": {},
   "outputs": [],
   "source": [
    "\n",
    "\n",
    "def gen_df_from_ftp_dir_listing(ftp, ftpdir):\n",
    "    lines = []\n",
    "    flist = []\n",
    "    try:    \n",
    "        res = ftp.retrlines(\"LIST \"+ftpdir, lines.append)\n",
    "    except:\n",
    "        print(\"Error: ftp.retrlines() failed. ftp timeout? Reconnect!\")\n",
    "        return\n",
    "        \n",
    "    if len(lines) == 0:\n",
    "        print(\"Error: ftp dir is empty\")\n",
    "        return\n",
    "    \n",
    "    for line in lines:\n",
    "#        print(line)\n",
    "        [ftype, fsize, fname] = [line[0:1], int(line[31:42]), line[56:]]\n",
    "#        itemlist = [line[0:1], int(line[31:42]), line[56:]]\n",
    "#        flist.append(itemlist)\n",
    "        \n",
    "        fext = os.path.splitext(fname)[-1]\n",
    "        \n",
    "        if fext == \".zip\":\n",
    "            station_id = int(fname.split(\"_\")[2])\n",
    "        else:\n",
    "            station_id = -1 \n",
    "        \n",
    "        flist.append([station_id, fname, fext, fsize, ftype])\n",
    "        \n",
    "        \n",
    "\n",
    "    df_ftpdir = pd.DataFrame(flist,columns=[\"station_id\", \"name\", \"ext\", \"size\", \"type\"])\n",
    "    return(df_ftpdir)"
   ]
  },
  {
   "cell_type": "code",
   "execution_count": 70,
   "metadata": {},
   "outputs": [],
   "source": [
    "df_ftpdir = gen_df_from_ftp_dir_listing(ftp, ftp_dir)"
   ]
  },
  {
   "cell_type": "code",
   "execution_count": 71,
   "metadata": {},
   "outputs": [
    {
     "data": {
      "text/html": [
       "<div>\n",
       "<style scoped>\n",
       "    .dataframe tbody tr th:only-of-type {\n",
       "        vertical-align: middle;\n",
       "    }\n",
       "\n",
       "    .dataframe tbody tr th {\n",
       "        vertical-align: top;\n",
       "    }\n",
       "\n",
       "    .dataframe thead th {\n",
       "        text-align: right;\n",
       "    }\n",
       "</style>\n",
       "<table border=\"1\" class=\"dataframe\">\n",
       "  <thead>\n",
       "    <tr style=\"text-align: right;\">\n",
       "      <th></th>\n",
       "      <th>station_id</th>\n",
       "      <th>name</th>\n",
       "      <th>ext</th>\n",
       "      <th>size</th>\n",
       "      <th>type</th>\n",
       "    </tr>\n",
       "  </thead>\n",
       "  <tbody>\n",
       "    <tr>\n",
       "      <th>618</th>\n",
       "      <td>13777</td>\n",
       "      <td>stundenwerte_TU_13777_20080601_20201231_hist.zip</td>\n",
       "      <td>.zip</td>\n",
       "      <td>606699</td>\n",
       "      <td>-</td>\n",
       "    </tr>\n",
       "    <tr>\n",
       "      <th>619</th>\n",
       "      <td>13904</td>\n",
       "      <td>stundenwerte_TU_13904_20080915_20100426_hist.zip</td>\n",
       "      <td>.zip</td>\n",
       "      <td>77723</td>\n",
       "      <td>-</td>\n",
       "    </tr>\n",
       "    <tr>\n",
       "      <th>620</th>\n",
       "      <td>13965</td>\n",
       "      <td>stundenwerte_TU_13965_20081201_20201231_hist.zip</td>\n",
       "      <td>.zip</td>\n",
       "      <td>581588</td>\n",
       "      <td>-</td>\n",
       "    </tr>\n",
       "    <tr>\n",
       "      <th>621</th>\n",
       "      <td>14003</td>\n",
       "      <td>stundenwerte_TU_14003_19610103_19920629_hist.zip</td>\n",
       "      <td>.zip</td>\n",
       "      <td>1142478</td>\n",
       "      <td>-</td>\n",
       "    </tr>\n",
       "    <tr>\n",
       "      <th>622</th>\n",
       "      <td>15000</td>\n",
       "      <td>stundenwerte_TU_15000_20110401_20201231_hist.zip</td>\n",
       "      <td>.zip</td>\n",
       "      <td>466964</td>\n",
       "      <td>-</td>\n",
       "    </tr>\n",
       "    <tr>\n",
       "      <th>623</th>\n",
       "      <td>15207</td>\n",
       "      <td>stundenwerte_TU_15207_20131101_20201231_hist.zip</td>\n",
       "      <td>.zip</td>\n",
       "      <td>346831</td>\n",
       "      <td>-</td>\n",
       "    </tr>\n",
       "    <tr>\n",
       "      <th>624</th>\n",
       "      <td>15444</td>\n",
       "      <td>stundenwerte_TU_15444_20140901_20201231_hist.zip</td>\n",
       "      <td>.zip</td>\n",
       "      <td>307651</td>\n",
       "      <td>-</td>\n",
       "    </tr>\n",
       "    <tr>\n",
       "      <th>625</th>\n",
       "      <td>15555</td>\n",
       "      <td>stundenwerte_TU_15555_20160501_20201231_hist.zip</td>\n",
       "      <td>.zip</td>\n",
       "      <td>230027</td>\n",
       "      <td>-</td>\n",
       "    </tr>\n",
       "    <tr>\n",
       "      <th>626</th>\n",
       "      <td>19171</td>\n",
       "      <td>stundenwerte_TU_19171_20200901_20201231_hist.zip</td>\n",
       "      <td>.zip</td>\n",
       "      <td>20827</td>\n",
       "      <td>-</td>\n",
       "    </tr>\n",
       "    <tr>\n",
       "      <th>627</th>\n",
       "      <td>19172</td>\n",
       "      <td>stundenwerte_TU_19172_20200901_20201231_hist.zip</td>\n",
       "      <td>.zip</td>\n",
       "      <td>20596</td>\n",
       "      <td>-</td>\n",
       "    </tr>\n",
       "  </tbody>\n",
       "</table>\n",
       "</div>"
      ],
      "text/plain": [
       "     station_id                                              name   ext  \\\n",
       "618       13777  stundenwerte_TU_13777_20080601_20201231_hist.zip  .zip   \n",
       "619       13904  stundenwerte_TU_13904_20080915_20100426_hist.zip  .zip   \n",
       "620       13965  stundenwerte_TU_13965_20081201_20201231_hist.zip  .zip   \n",
       "621       14003  stundenwerte_TU_14003_19610103_19920629_hist.zip  .zip   \n",
       "622       15000  stundenwerte_TU_15000_20110401_20201231_hist.zip  .zip   \n",
       "623       15207  stundenwerte_TU_15207_20131101_20201231_hist.zip  .zip   \n",
       "624       15444  stundenwerte_TU_15444_20140901_20201231_hist.zip  .zip   \n",
       "625       15555  stundenwerte_TU_15555_20160501_20201231_hist.zip  .zip   \n",
       "626       19171  stundenwerte_TU_19171_20200901_20201231_hist.zip  .zip   \n",
       "627       19172  stundenwerte_TU_19172_20200901_20201231_hist.zip  .zip   \n",
       "\n",
       "        size type  \n",
       "618   606699    -  \n",
       "619    77723    -  \n",
       "620   581588    -  \n",
       "621  1142478    -  \n",
       "622   466964    -  \n",
       "623   346831    -  \n",
       "624   307651    -  \n",
       "625   230027    -  \n",
       "626    20827    -  \n",
       "627    20596    -  "
      ]
     },
     "execution_count": 71,
     "metadata": {},
     "output_type": "execute_result"
    }
   ],
   "source": [
    "df_ftpdir.tail(10)"
   ]
  },
  {
   "cell_type": "markdown",
   "metadata": {},
   "source": [
    "### Dataframe with Temp Zip Files"
   ]
  },
  {
   "cell_type": "code",
   "execution_count": 72,
   "metadata": {},
   "outputs": [
    {
     "data": {
      "text/html": [
       "<div>\n",
       "<style scoped>\n",
       "    .dataframe tbody tr th:only-of-type {\n",
       "        vertical-align: middle;\n",
       "    }\n",
       "\n",
       "    .dataframe tbody tr th {\n",
       "        vertical-align: top;\n",
       "    }\n",
       "\n",
       "    .dataframe thead th {\n",
       "        text-align: right;\n",
       "    }\n",
       "</style>\n",
       "<table border=\"1\" class=\"dataframe\">\n",
       "  <thead>\n",
       "    <tr style=\"text-align: right;\">\n",
       "      <th></th>\n",
       "      <th>name</th>\n",
       "      <th>ext</th>\n",
       "      <th>size</th>\n",
       "      <th>type</th>\n",
       "    </tr>\n",
       "    <tr>\n",
       "      <th>station_id</th>\n",
       "      <th></th>\n",
       "      <th></th>\n",
       "      <th></th>\n",
       "      <th></th>\n",
       "    </tr>\n",
       "  </thead>\n",
       "  <tbody>\n",
       "    <tr>\n",
       "      <th>13777</th>\n",
       "      <td>stundenwerte_TU_13777_20080601_20201231_hist.zip</td>\n",
       "      <td>.zip</td>\n",
       "      <td>606699</td>\n",
       "      <td>-</td>\n",
       "    </tr>\n",
       "    <tr>\n",
       "      <th>13904</th>\n",
       "      <td>stundenwerte_TU_13904_20080915_20100426_hist.zip</td>\n",
       "      <td>.zip</td>\n",
       "      <td>77723</td>\n",
       "      <td>-</td>\n",
       "    </tr>\n",
       "    <tr>\n",
       "      <th>13965</th>\n",
       "      <td>stundenwerte_TU_13965_20081201_20201231_hist.zip</td>\n",
       "      <td>.zip</td>\n",
       "      <td>581588</td>\n",
       "      <td>-</td>\n",
       "    </tr>\n",
       "    <tr>\n",
       "      <th>14003</th>\n",
       "      <td>stundenwerte_TU_14003_19610103_19920629_hist.zip</td>\n",
       "      <td>.zip</td>\n",
       "      <td>1142478</td>\n",
       "      <td>-</td>\n",
       "    </tr>\n",
       "    <tr>\n",
       "      <th>15000</th>\n",
       "      <td>stundenwerte_TU_15000_20110401_20201231_hist.zip</td>\n",
       "      <td>.zip</td>\n",
       "      <td>466964</td>\n",
       "      <td>-</td>\n",
       "    </tr>\n",
       "    <tr>\n",
       "      <th>15207</th>\n",
       "      <td>stundenwerte_TU_15207_20131101_20201231_hist.zip</td>\n",
       "      <td>.zip</td>\n",
       "      <td>346831</td>\n",
       "      <td>-</td>\n",
       "    </tr>\n",
       "    <tr>\n",
       "      <th>15444</th>\n",
       "      <td>stundenwerte_TU_15444_20140901_20201231_hist.zip</td>\n",
       "      <td>.zip</td>\n",
       "      <td>307651</td>\n",
       "      <td>-</td>\n",
       "    </tr>\n",
       "    <tr>\n",
       "      <th>15555</th>\n",
       "      <td>stundenwerte_TU_15555_20160501_20201231_hist.zip</td>\n",
       "      <td>.zip</td>\n",
       "      <td>230027</td>\n",
       "      <td>-</td>\n",
       "    </tr>\n",
       "    <tr>\n",
       "      <th>19171</th>\n",
       "      <td>stundenwerte_TU_19171_20200901_20201231_hist.zip</td>\n",
       "      <td>.zip</td>\n",
       "      <td>20827</td>\n",
       "      <td>-</td>\n",
       "    </tr>\n",
       "    <tr>\n",
       "      <th>19172</th>\n",
       "      <td>stundenwerte_TU_19172_20200901_20201231_hist.zip</td>\n",
       "      <td>.zip</td>\n",
       "      <td>20596</td>\n",
       "      <td>-</td>\n",
       "    </tr>\n",
       "  </tbody>\n",
       "</table>\n",
       "</div>"
      ],
      "text/plain": [
       "                                                        name   ext     size  \\\n",
       "station_id                                                                    \n",
       "13777       stundenwerte_TU_13777_20080601_20201231_hist.zip  .zip   606699   \n",
       "13904       stundenwerte_TU_13904_20080915_20100426_hist.zip  .zip    77723   \n",
       "13965       stundenwerte_TU_13965_20081201_20201231_hist.zip  .zip   581588   \n",
       "14003       stundenwerte_TU_14003_19610103_19920629_hist.zip  .zip  1142478   \n",
       "15000       stundenwerte_TU_15000_20110401_20201231_hist.zip  .zip   466964   \n",
       "15207       stundenwerte_TU_15207_20131101_20201231_hist.zip  .zip   346831   \n",
       "15444       stundenwerte_TU_15444_20140901_20201231_hist.zip  .zip   307651   \n",
       "15555       stundenwerte_TU_15555_20160501_20201231_hist.zip  .zip   230027   \n",
       "19171       stundenwerte_TU_19171_20200901_20201231_hist.zip  .zip    20827   \n",
       "19172       stundenwerte_TU_19172_20200901_20201231_hist.zip  .zip    20596   \n",
       "\n",
       "           type  \n",
       "station_id       \n",
       "13777         -  \n",
       "13904         -  \n",
       "13965         -  \n",
       "14003         -  \n",
       "15000         -  \n",
       "15207         -  \n",
       "15444         -  \n",
       "15555         -  \n",
       "19171         -  \n",
       "19172         -  "
      ]
     },
     "execution_count": 72,
     "metadata": {},
     "output_type": "execute_result"
    }
   ],
   "source": [
    "#df_ftpdir[\"ext\"]==\".zip\"\n",
    "df_zips = df_ftpdir[df_ftpdir[\"ext\"]==\".zip\"]\n",
    "df_zips.set_index(\"station_id\", inplace = True)\n",
    "df_zips.tail(10)"
   ]
  },
  {
   "cell_type": "markdown",
   "metadata": {},
   "source": [
    "### Download the Station Description File"
   ]
  },
  {
   "cell_type": "code",
   "execution_count": 73,
   "metadata": {},
   "outputs": [
    {
     "name": "stdout",
     "output_type": "stream",
     "text": [
      "TU_Stundenwerte_Beschreibung_Stationen.txt\n"
     ]
    }
   ],
   "source": [
    "station_fname = df_ftpdir[df_ftpdir['name'].str.contains(station_desc_pattern)][\"name\"].values[0]\n",
    "print(station_fname)\n",
    "\n",
    "# ALternative\n",
    "#station_fname2 = df_ftpdir[df_ftpdir[\"name\"].str.match(\"^.*Beschreibung_Stationen.*txt$\")][\"name\"].values[0]\n",
    "#print(station_fname2)"
   ]
  },
  {
   "cell_type": "code",
   "execution_count": 74,
   "metadata": {},
   "outputs": [
    {
     "name": "stdout",
     "output_type": "stream",
     "text": [
      "grabFile: \n",
      "From: /climate_environment/CDC/observations_germany/climate/hourly/air_temperature/historical/TU_Stundenwerte_Beschreibung_Stationen.txt\n",
      "To:   data/original/DWD/hourly/air_temperature/historical/TU_Stundenwerte_Beschreibung_Stationen.txt\n"
     ]
    }
   ],
   "source": [
    "print(\"grabFile: \")\n",
    "print(\"From: \" + ftp_dir + station_fname)\n",
    "print(\"To:   \" + local_ftp_station_dir + station_fname)\n",
    "grabFile(ftp_dir + station_fname, local_ftp_station_dir + station_fname)"
   ]
  },
  {
   "cell_type": "code",
   "execution_count": 75,
   "metadata": {},
   "outputs": [],
   "source": [
    "# extract column names. They are in German (de)\n",
    "# We have to use codecs because of difficulties with character encoding (German Umlaute)\n",
    "import codecs\n",
    "\n",
    "def station_desc_txt_to_csv(txtfile, csvfile):\n",
    "    file = codecs.open(txtfile,\"r\",\"utf8\")#\"utf8\", iso8859_2\n",
    "    r = file.readline()\n",
    "    file.close()\n",
    "    colnames_de = r.split()\n",
    "    colnames_de\n",
    "    \n",
    "    translate = \\\n",
    "    {'Stations_id':'station_id',\n",
    "     'von_datum':'date_from',\n",
    "     'bis_datum':'date_to',\n",
    "     'Stationshoehe':'altitude',\n",
    "     'geoBreite': 'latitude',\n",
    "     'geoLaenge': 'longitude',\n",
    "     'Stationsname':'name',\n",
    "     'Bundesland':'state'}\n",
    "    \n",
    "    colnames_en = [translate[h] for h in colnames_de]\n",
    "    \n",
    "    # Skip the first two rows and set the column names.\n",
    "    df = pd.read_fwf(txtfile,skiprows=2,names=colnames_en,encoding='iso8859_2', parse_dates=[\"date_from\",\"date_to\"],index_col = 0)\n",
    "    \n",
    "    # write csv\n",
    "    df.to_csv(csvfile, sep = \";\")\n",
    "    return(df)"
   ]
  },
  {
   "cell_type": "code",
   "execution_count": 76,
   "metadata": {},
   "outputs": [
    {
     "data": {
      "text/html": [
       "<div>\n",
       "<style scoped>\n",
       "    .dataframe tbody tr th:only-of-type {\n",
       "        vertical-align: middle;\n",
       "    }\n",
       "\n",
       "    .dataframe tbody tr th {\n",
       "        vertical-align: top;\n",
       "    }\n",
       "\n",
       "    .dataframe thead th {\n",
       "        text-align: right;\n",
       "    }\n",
       "</style>\n",
       "<table border=\"1\" class=\"dataframe\">\n",
       "  <thead>\n",
       "    <tr style=\"text-align: right;\">\n",
       "      <th></th>\n",
       "      <th>date_from</th>\n",
       "      <th>date_to</th>\n",
       "      <th>altitude</th>\n",
       "      <th>latitude</th>\n",
       "      <th>longitude</th>\n",
       "      <th>name</th>\n",
       "      <th>state</th>\n",
       "    </tr>\n",
       "    <tr>\n",
       "      <th>station_id</th>\n",
       "      <th></th>\n",
       "      <th></th>\n",
       "      <th></th>\n",
       "      <th></th>\n",
       "      <th></th>\n",
       "      <th></th>\n",
       "      <th></th>\n",
       "    </tr>\n",
       "  </thead>\n",
       "  <tbody>\n",
       "    <tr>\n",
       "      <th>15207</th>\n",
       "      <td>2013-11-01</td>\n",
       "      <td>2022-03-09</td>\n",
       "      <td>317</td>\n",
       "      <td>51.2835</td>\n",
       "      <td>9.3590</td>\n",
       "      <td>Schauenburg-Elgershausen</td>\n",
       "      <td>Hessen</td>\n",
       "    </tr>\n",
       "    <tr>\n",
       "      <th>15444</th>\n",
       "      <td>2014-09-01</td>\n",
       "      <td>2022-03-09</td>\n",
       "      <td>593</td>\n",
       "      <td>48.4418</td>\n",
       "      <td>9.9216</td>\n",
       "      <td>Ulm-Mähringen</td>\n",
       "      <td>Baden-Württemberg</td>\n",
       "    </tr>\n",
       "    <tr>\n",
       "      <th>15555</th>\n",
       "      <td>2016-05-01</td>\n",
       "      <td>2022-03-09</td>\n",
       "      <td>815</td>\n",
       "      <td>47.8761</td>\n",
       "      <td>10.5849</td>\n",
       "      <td>Kaufbeuren-Oberbeuren</td>\n",
       "      <td>Bayern</td>\n",
       "    </tr>\n",
       "    <tr>\n",
       "      <th>19171</th>\n",
       "      <td>2020-09-01</td>\n",
       "      <td>2022-03-09</td>\n",
       "      <td>13</td>\n",
       "      <td>54.0038</td>\n",
       "      <td>9.8553</td>\n",
       "      <td>Hasenkrug-Hardebek</td>\n",
       "      <td>Schleswig-Holstein</td>\n",
       "    </tr>\n",
       "    <tr>\n",
       "      <th>19172</th>\n",
       "      <td>2020-09-01</td>\n",
       "      <td>2022-03-09</td>\n",
       "      <td>48</td>\n",
       "      <td>54.0246</td>\n",
       "      <td>9.3880</td>\n",
       "      <td>Wacken</td>\n",
       "      <td>Schleswig-Holstein</td>\n",
       "    </tr>\n",
       "  </tbody>\n",
       "</table>\n",
       "</div>"
      ],
      "text/plain": [
       "            date_from    date_to  altitude  latitude  longitude  \\\n",
       "station_id                                                        \n",
       "15207      2013-11-01 2022-03-09       317   51.2835     9.3590   \n",
       "15444      2014-09-01 2022-03-09       593   48.4418     9.9216   \n",
       "15555      2016-05-01 2022-03-09       815   47.8761    10.5849   \n",
       "19171      2020-09-01 2022-03-09        13   54.0038     9.8553   \n",
       "19172      2020-09-01 2022-03-09        48   54.0246     9.3880   \n",
       "\n",
       "                                name               state  \n",
       "station_id                                                \n",
       "15207       Schauenburg-Elgershausen              Hessen  \n",
       "15444                  Ulm-Mähringen   Baden-Württemberg  \n",
       "15555          Kaufbeuren-Oberbeuren              Bayern  \n",
       "19171             Hasenkrug-Hardebek  Schleswig-Holstein  \n",
       "19172                         Wacken  Schleswig-Holstein  "
      ]
     },
     "execution_count": 76,
     "metadata": {},
     "output_type": "execute_result"
    }
   ],
   "source": [
    "basename = os.path.splitext(station_fname)[0]\n",
    "df_stations = station_desc_txt_to_csv(local_ftp_station_dir + station_fname, local_station_dir + basename + \".csv\")\n",
    "\n",
    "\n",
    "df_stations['date_from']=pd.to_datetime(df_stations['date_from'],infer_datetime_format=True) \n",
    "df_stations['date_to']=pd.to_datetime(df_stations['date_to'],infer_datetime_format=True)\n",
    "df_stations.tail()"
   ]
  },
  {
   "cell_type": "markdown",
   "metadata": {},
   "source": [
    "### Select Stations Located in NRW from Station Description Dataframe"
   ]
  },
  {
   "cell_type": "code",
   "execution_count": 77,
   "metadata": {
    "tags": []
   },
   "outputs": [
    {
     "name": "stdout",
     "output_type": "stream",
     "text": [
      "(42, 7)\n"
     ]
    },
    {
     "data": {
      "text/html": [
       "<div>\n",
       "<style scoped>\n",
       "    .dataframe tbody tr th:only-of-type {\n",
       "        vertical-align: middle;\n",
       "    }\n",
       "\n",
       "    .dataframe tbody tr th {\n",
       "        vertical-align: top;\n",
       "    }\n",
       "\n",
       "    .dataframe thead th {\n",
       "        text-align: right;\n",
       "    }\n",
       "</style>\n",
       "<table border=\"1\" class=\"dataframe\">\n",
       "  <thead>\n",
       "    <tr style=\"text-align: right;\">\n",
       "      <th></th>\n",
       "      <th>date_from</th>\n",
       "      <th>date_to</th>\n",
       "      <th>altitude</th>\n",
       "      <th>latitude</th>\n",
       "      <th>longitude</th>\n",
       "      <th>name</th>\n",
       "      <th>state</th>\n",
       "    </tr>\n",
       "    <tr>\n",
       "      <th>station_id</th>\n",
       "      <th></th>\n",
       "      <th></th>\n",
       "      <th></th>\n",
       "      <th></th>\n",
       "      <th></th>\n",
       "      <th></th>\n",
       "      <th></th>\n",
       "    </tr>\n",
       "  </thead>\n",
       "  <tbody>\n",
       "    <tr>\n",
       "      <th>13713</th>\n",
       "      <td>2007-11-01</td>\n",
       "      <td>2022-03-09</td>\n",
       "      <td>386</td>\n",
       "      <td>51.0899</td>\n",
       "      <td>7.6289</td>\n",
       "      <td>Meinerzhagen-Redlendorf</td>\n",
       "      <td>Nordrhein-Westfalen</td>\n",
       "    </tr>\n",
       "    <tr>\n",
       "      <th>15000</th>\n",
       "      <td>2011-04-01</td>\n",
       "      <td>2022-03-09</td>\n",
       "      <td>231</td>\n",
       "      <td>50.7983</td>\n",
       "      <td>6.0244</td>\n",
       "      <td>Aachen-Orsbach</td>\n",
       "      <td>Nordrhein-Westfalen</td>\n",
       "    </tr>\n",
       "  </tbody>\n",
       "</table>\n",
       "</div>"
      ],
      "text/plain": [
       "            date_from    date_to  altitude  latitude  longitude  \\\n",
       "station_id                                                        \n",
       "13713      2007-11-01 2022-03-09       386   51.0899     7.6289   \n",
       "15000      2011-04-01 2022-03-09       231   50.7983     6.0244   \n",
       "\n",
       "                               name                state  \n",
       "station_id                                                \n",
       "13713       Meinerzhagen-Redlendorf  Nordrhein-Westfalen  \n",
       "15000                Aachen-Orsbach  Nordrhein-Westfalen  "
      ]
     },
     "execution_count": 77,
     "metadata": {},
     "output_type": "execute_result"
    }
   ],
   "source": [
    "# Create variable with TRUE if state is Nordrhein-Westfalen\n",
    "isNRW = df_stations['state'] == \"Nordrhein-Westfalen\"\n",
    "\n",
    "# Create variable with TRUE if date_to is latest date (indicates operation up to now)\n",
    "isOperational = df_stations['date_to'] >dt.datetime.strptime('01-01-2019',\"%d-%m-%Y\")\n",
    "\n",
    "\n",
    "# select on both conditions\n",
    "dfNRW = df_stations[isNRW &isOperational]\n",
    "#print(\"Number of stations in NRW: \\n\", dfNRW.count())\n",
    "\n",
    "print(dfNRW.shape)\n",
    "dfNRW.tail(2)"
   ]
  },
  {
   "cell_type": "code",
   "execution_count": 78,
   "metadata": {},
   "outputs": [
    {
     "data": {
      "text/plain": [
       "False"
      ]
     },
     "execution_count": 78,
     "metadata": {},
     "output_type": "execute_result"
    }
   ],
   "source": [
    "#print(dfNRW.index)\n",
    "station_ids_selected = list(dfNRW.index)\n",
    "set(station_ids_selected).issubset(set(df_zips)) # we have some missing stations"
   ]
  },
  {
   "cell_type": "code",
   "execution_count": 79,
   "metadata": {},
   "outputs": [
    {
     "data": {
      "text/plain": [
       "name    stundenwerte_TU_13670_20070601_20201231_hist.zip\n",
       "ext                                                 .zip\n",
       "size                                              652567\n",
       "type                                                   -\n",
       "Name: 13670, dtype: object"
      ]
     },
     "execution_count": 79,
     "metadata": {},
     "output_type": "execute_result"
    }
   ],
   "source": [
    "df_zips.loc[13670,]"
   ]
  },
  {
   "cell_type": "code",
   "execution_count": 80,
   "metadata": {},
   "outputs": [
    {
     "data": {
      "text/plain": [
       "[390,\n",
       " 603,\n",
       " 617,\n",
       " 1078,\n",
       " 1246,\n",
       " 1300,\n",
       " 1303,\n",
       " 1327,\n",
       " 1572,\n",
       " 1590,\n",
       " 1766,\n",
       " 2110,\n",
       " 2483,\n",
       " 2497,\n",
       " 2629,\n",
       " 2667,\n",
       " 2947,\n",
       " 2968,\n",
       " 3028,\n",
       " 3031,\n",
       " 3098,\n",
       " 3540,\n",
       " 3591,\n",
       " 3623,\n",
       " 4063,\n",
       " 4127,\n",
       " 4371,\n",
       " 5064,\n",
       " 5347,\n",
       " 5480,\n",
       " 5717,\n",
       " 6197,\n",
       " 6264,\n",
       " 6337,\n",
       " 7106,\n",
       " 7330,\n",
       " 7374,\n",
       " 13670,\n",
       " 13696,\n",
       " 13700,\n",
       " 13713,\n",
       " 15000]"
      ]
     },
     "execution_count": 80,
     "metadata": {},
     "output_type": "execute_result"
    }
   ],
   "source": [
    "station_ids_selected"
   ]
  },
  {
   "cell_type": "markdown",
   "metadata": {},
   "source": [
    "### Download TS Data from FTP Server\n",
    "\n",
    "Problem: Not all stations listed in the station description file are associated with a time series (zip file)! The stations in the description file and the set of stations whoch are TS data provided for (zip files) do not match perfectly.  "
   ]
  },
  {
   "cell_type": "code",
   "execution_count": null,
   "metadata": {},
   "outputs": [],
   "source": []
  },
  {
   "cell_type": "code",
   "execution_count": 81,
   "metadata": {},
   "outputs": [
    {
     "name": "stdout",
     "output_type": "stream",
     "text": [
      "390\n",
      "603\n",
      "617\n",
      "1078\n",
      "1246\n",
      "1300\n",
      "1303\n",
      "1327\n",
      "1572\n",
      "WARNING: TS file for key 1572 not found in FTP directory.\n",
      "1590\n",
      "1766\n",
      "2110\n",
      "2483\n",
      "2497\n",
      "2629\n",
      "2667\n",
      "2947\n",
      "2968\n",
      "3028\n",
      "3031\n",
      "3098\n",
      "3540\n",
      "3591\n",
      "3623\n",
      "4063\n",
      "4127\n",
      "4371\n",
      "5064\n",
      "5347\n",
      "5480\n",
      "5717\n",
      "6197\n",
      "6264\n",
      "6337\n",
      "7106\n",
      "7330\n",
      "7374\n",
      "13670\n",
      "13696\n",
      "13700\n",
      "13713\n",
      "15000\n"
     ]
    }
   ],
   "source": [
    "# Add the names of the zip files only to a list. \n",
    "local_zip_list = []\n",
    "\n",
    "for station_id in station_ids_selected:\n",
    "    print(station_id)\n",
    "    try:\n",
    "        fname = df_zips[\"name\"][station_id]\n",
    "        #print(fname)\n",
    "        grabFile(ftp_dir + fname, local_ftp_ts_dir + fname)\n",
    "        local_zip_list.append(fname)\n",
    "    except:\n",
    "        print(\"WARNING: TS file for key %d not found in FTP directory.\" % station_id)"
   ]
  },
  {
   "cell_type": "markdown",
   "metadata": {},
   "source": [
    "### Concat the Temp Time Series dfs\n",
    "\n",
    "\n"
   ]
  },
  {
   "cell_type": "code",
   "execution_count": 82,
   "metadata": {},
   "outputs": [],
   "source": [
    "# column names\n",
    "#STATIONS_ID;MESS_DATUM;QN_9;TT_TU;RF_TU;eor"
   ]
  },
  {
   "cell_type": "code",
   "execution_count": 83,
   "metadata": {},
   "outputs": [],
   "source": [
    "import datetime as dt"
   ]
  },
  {
   "cell_type": "code",
   "execution_count": 84,
   "metadata": {},
   "outputs": [],
   "source": [
    "def temp_ts_to_df(fname):\n",
    "    \n",
    "    df = pd.read_csv(fname, delimiter=\";\", encoding=\"iso8859_2\")\n",
    "   \n",
    "    \n",
    "    # https://medium.com/@chaimgluck1/working-with-pandas-fixing-messy-column-names-42a54a6659cd\n",
    "\n",
    "    # Column headers: remove leading blanks (strip), replace \" \" with \"_\", and convert to lower case.\n",
    "    df.columns = df.columns.str.strip().str.lower().str.replace(' ', '_').str.replace('(', '').str.replace(')', '')\n",
    "    #print(df.columns)\n",
    "    df['mess_datum']=pd.to_datetime(df['mess_datum'], format='%Y%m%d%H', utc=True, errors='ignore')\n",
    "    #begin_date=dt.datetime.strptime('01-08-2019',\"%d-%m-%Y\")\n",
    "    begin_date=dt.datetime(2019, 8, 1, 0, 0, 0, tzinfo=dt.timezone.utc)\n",
    "    df=df[df['mess_datum']>begin_date]\n",
    "\n",
    "    return(df)"
   ]
  },
  {
   "cell_type": "code",
   "execution_count": 85,
   "metadata": {},
   "outputs": [],
   "source": [
    "from zipfile import ZipFile"
   ]
  },
  {
   "cell_type": "code",
   "execution_count": 86,
   "metadata": {},
   "outputs": [],
   "source": [
    "\n",
    "def ts_merge():\n",
    "    # Very compact code.\n",
    "    df = pd.DataFrame()\n",
    "    for elt in local_zip_list:\n",
    "        ffname = local_ftp_ts_dir + elt\n",
    "        print(\"Zip archive: \" + ffname)\n",
    "        with ZipFile(ffname) as myzip:\n",
    "            # read the time series data from the file starting with \"produkt\"\n",
    "            prodfilename = [elt for elt in myzip.namelist() if elt.split(\"_\")[0]==\"produkt\"][0] \n",
    "            print(\"Extract product file: %s\" % prodfilename)\n",
    "            print()\n",
    "            with myzip.open(prodfilename) as myfile:\n",
    "                dftmp = temp_ts_to_df(myfile)\n",
    "                df = pd.concat([df, dftmp])\n",
    "\n",
    "    \n",
    "    return(df)"
   ]
  },
  {
   "cell_type": "code",
   "execution_count": 87,
   "metadata": {},
   "outputs": [
    {
     "name": "stdout",
     "output_type": "stream",
     "text": [
      "Zip archive: data/original/DWD/hourly/air_temperature/historical/stundenwerte_TU_00390_20040701_20201231_hist.zip\n",
      "Extract product file: produkt_tu_stunde_20040701_20201231_00390.txt\n",
      "\n"
     ]
    },
    {
     "name": "stderr",
     "output_type": "stream",
     "text": [
      "/var/folders/bs/8_rscwxd25z1bcq4d89vsz380000gn/T/ipykernel_82728/4171902304.py:9: FutureWarning: The default value of regex will change from True to False in a future version. In addition, single character regular expressions will *not* be treated as literal strings when regex=True.\n",
      "  df.columns = df.columns.str.strip().str.lower().str.replace(' ', '_').str.replace('(', '').str.replace(')', '')\n",
      "/var/folders/bs/8_rscwxd25z1bcq4d89vsz380000gn/T/ipykernel_82728/4171902304.py:9: FutureWarning: The default value of regex will change from True to False in a future version. In addition, single character regular expressions will *not* be treated as literal strings when regex=True.\n",
      "  df.columns = df.columns.str.strip().str.lower().str.replace(' ', '_').str.replace('(', '').str.replace(')', '')\n"
     ]
    },
    {
     "name": "stdout",
     "output_type": "stream",
     "text": [
      "Zip archive: data/original/DWD/hourly/air_temperature/historical/stundenwerte_TU_00603_20010403_20201231_hist.zip\n",
      "Extract product file: produkt_tu_stunde_20010403_20201231_00603.txt\n",
      "\n"
     ]
    },
    {
     "name": "stderr",
     "output_type": "stream",
     "text": [
      "/var/folders/bs/8_rscwxd25z1bcq4d89vsz380000gn/T/ipykernel_82728/4171902304.py:9: FutureWarning: The default value of regex will change from True to False in a future version. In addition, single character regular expressions will *not* be treated as literal strings when regex=True.\n",
      "  df.columns = df.columns.str.strip().str.lower().str.replace(' ', '_').str.replace('(', '').str.replace(')', '')\n",
      "/var/folders/bs/8_rscwxd25z1bcq4d89vsz380000gn/T/ipykernel_82728/4171902304.py:9: FutureWarning: The default value of regex will change from True to False in a future version. In addition, single character regular expressions will *not* be treated as literal strings when regex=True.\n",
      "  df.columns = df.columns.str.strip().str.lower().str.replace(' ', '_').str.replace('(', '').str.replace(')', '')\n"
     ]
    },
    {
     "name": "stdout",
     "output_type": "stream",
     "text": [
      "Zip archive: data/original/DWD/hourly/air_temperature/historical/stundenwerte_TU_00617_20040601_20201231_hist.zip\n",
      "Extract product file: produkt_tu_stunde_20040601_20201231_00617.txt\n",
      "\n"
     ]
    },
    {
     "name": "stderr",
     "output_type": "stream",
     "text": [
      "/var/folders/bs/8_rscwxd25z1bcq4d89vsz380000gn/T/ipykernel_82728/4171902304.py:9: FutureWarning: The default value of regex will change from True to False in a future version. In addition, single character regular expressions will *not* be treated as literal strings when regex=True.\n",
      "  df.columns = df.columns.str.strip().str.lower().str.replace(' ', '_').str.replace('(', '').str.replace(')', '')\n",
      "/var/folders/bs/8_rscwxd25z1bcq4d89vsz380000gn/T/ipykernel_82728/4171902304.py:9: FutureWarning: The default value of regex will change from True to False in a future version. In addition, single character regular expressions will *not* be treated as literal strings when regex=True.\n",
      "  df.columns = df.columns.str.strip().str.lower().str.replace(' ', '_').str.replace('(', '').str.replace(')', '')\n"
     ]
    },
    {
     "name": "stdout",
     "output_type": "stream",
     "text": [
      "Zip archive: data/original/DWD/hourly/air_temperature/historical/stundenwerte_TU_01078_19760301_20201231_hist.zip\n",
      "Extract product file: produkt_tu_stunde_19760301_20201231_01078.txt\n",
      "\n"
     ]
    },
    {
     "name": "stderr",
     "output_type": "stream",
     "text": [
      "/var/folders/bs/8_rscwxd25z1bcq4d89vsz380000gn/T/ipykernel_82728/4171902304.py:9: FutureWarning: The default value of regex will change from True to False in a future version. In addition, single character regular expressions will *not* be treated as literal strings when regex=True.\n",
      "  df.columns = df.columns.str.strip().str.lower().str.replace(' ', '_').str.replace('(', '').str.replace(')', '')\n",
      "/var/folders/bs/8_rscwxd25z1bcq4d89vsz380000gn/T/ipykernel_82728/4171902304.py:9: FutureWarning: The default value of regex will change from True to False in a future version. In addition, single character regular expressions will *not* be treated as literal strings when regex=True.\n",
      "  df.columns = df.columns.str.strip().str.lower().str.replace(' ', '_').str.replace('(', '').str.replace(')', '')\n"
     ]
    },
    {
     "name": "stdout",
     "output_type": "stream",
     "text": [
      "Zip archive: data/original/DWD/hourly/air_temperature/historical/stundenwerte_TU_01246_20150801_20201231_hist.zip\n",
      "Extract product file: produkt_tu_stunde_20150801_20201231_01246.txt\n",
      "\n"
     ]
    },
    {
     "name": "stderr",
     "output_type": "stream",
     "text": [
      "/var/folders/bs/8_rscwxd25z1bcq4d89vsz380000gn/T/ipykernel_82728/4171902304.py:9: FutureWarning: The default value of regex will change from True to False in a future version. In addition, single character regular expressions will *not* be treated as literal strings when regex=True.\n",
      "  df.columns = df.columns.str.strip().str.lower().str.replace(' ', '_').str.replace('(', '').str.replace(')', '')\n",
      "/var/folders/bs/8_rscwxd25z1bcq4d89vsz380000gn/T/ipykernel_82728/4171902304.py:9: FutureWarning: The default value of regex will change from True to False in a future version. In addition, single character regular expressions will *not* be treated as literal strings when regex=True.\n",
      "  df.columns = df.columns.str.strip().str.lower().str.replace(' ', '_').str.replace('(', '').str.replace(')', '')\n"
     ]
    },
    {
     "name": "stdout",
     "output_type": "stream",
     "text": [
      "Zip archive: data/original/DWD/hourly/air_temperature/historical/stundenwerte_TU_01300_20040601_20201231_hist.zip\n",
      "Extract product file: produkt_tu_stunde_20040601_20201231_01300.txt\n",
      "\n"
     ]
    },
    {
     "name": "stderr",
     "output_type": "stream",
     "text": [
      "/var/folders/bs/8_rscwxd25z1bcq4d89vsz380000gn/T/ipykernel_82728/4171902304.py:9: FutureWarning: The default value of regex will change from True to False in a future version. In addition, single character regular expressions will *not* be treated as literal strings when regex=True.\n",
      "  df.columns = df.columns.str.strip().str.lower().str.replace(' ', '_').str.replace('(', '').str.replace(')', '')\n",
      "/var/folders/bs/8_rscwxd25z1bcq4d89vsz380000gn/T/ipykernel_82728/4171902304.py:9: FutureWarning: The default value of regex will change from True to False in a future version. In addition, single character regular expressions will *not* be treated as literal strings when regex=True.\n",
      "  df.columns = df.columns.str.strip().str.lower().str.replace(' ', '_').str.replace('(', '').str.replace(')', '')\n"
     ]
    },
    {
     "name": "stdout",
     "output_type": "stream",
     "text": [
      "Zip archive: data/original/DWD/hourly/air_temperature/historical/stundenwerte_TU_01303_19510101_20201231_hist.zip\n",
      "Extract product file: produkt_tu_stunde_19510101_20201231_01303.txt\n",
      "\n"
     ]
    },
    {
     "name": "stderr",
     "output_type": "stream",
     "text": [
      "/var/folders/bs/8_rscwxd25z1bcq4d89vsz380000gn/T/ipykernel_82728/4171902304.py:9: FutureWarning: The default value of regex will change from True to False in a future version. In addition, single character regular expressions will *not* be treated as literal strings when regex=True.\n",
      "  df.columns = df.columns.str.strip().str.lower().str.replace(' ', '_').str.replace('(', '').str.replace(')', '')\n",
      "/var/folders/bs/8_rscwxd25z1bcq4d89vsz380000gn/T/ipykernel_82728/4171902304.py:9: FutureWarning: The default value of regex will change from True to False in a future version. In addition, single character regular expressions will *not* be treated as literal strings when regex=True.\n",
      "  df.columns = df.columns.str.strip().str.lower().str.replace(' ', '_').str.replace('(', '').str.replace(')', '')\n"
     ]
    },
    {
     "name": "stdout",
     "output_type": "stream",
     "text": [
      "Zip archive: data/original/DWD/hourly/air_temperature/historical/stundenwerte_TU_01327_20040801_20201231_hist.zip\n",
      "Extract product file: produkt_tu_stunde_20040801_20201231_01327.txt\n",
      "\n"
     ]
    },
    {
     "name": "stderr",
     "output_type": "stream",
     "text": [
      "/var/folders/bs/8_rscwxd25z1bcq4d89vsz380000gn/T/ipykernel_82728/4171902304.py:9: FutureWarning: The default value of regex will change from True to False in a future version. In addition, single character regular expressions will *not* be treated as literal strings when regex=True.\n",
      "  df.columns = df.columns.str.strip().str.lower().str.replace(' ', '_').str.replace('(', '').str.replace(')', '')\n",
      "/var/folders/bs/8_rscwxd25z1bcq4d89vsz380000gn/T/ipykernel_82728/4171902304.py:9: FutureWarning: The default value of regex will change from True to False in a future version. In addition, single character regular expressions will *not* be treated as literal strings when regex=True.\n",
      "  df.columns = df.columns.str.strip().str.lower().str.replace(' ', '_').str.replace('(', '').str.replace(')', '')\n"
     ]
    },
    {
     "name": "stdout",
     "output_type": "stream",
     "text": [
      "Zip archive: data/original/DWD/hourly/air_temperature/historical/stundenwerte_TU_01590_20030701_20201231_hist.zip\n",
      "Extract product file: produkt_tu_stunde_20030701_20201231_01590.txt\n",
      "\n"
     ]
    },
    {
     "name": "stderr",
     "output_type": "stream",
     "text": [
      "/var/folders/bs/8_rscwxd25z1bcq4d89vsz380000gn/T/ipykernel_82728/4171902304.py:9: FutureWarning: The default value of regex will change from True to False in a future version. In addition, single character regular expressions will *not* be treated as literal strings when regex=True.\n",
      "  df.columns = df.columns.str.strip().str.lower().str.replace(' ', '_').str.replace('(', '').str.replace(')', '')\n",
      "/var/folders/bs/8_rscwxd25z1bcq4d89vsz380000gn/T/ipykernel_82728/4171902304.py:9: FutureWarning: The default value of regex will change from True to False in a future version. In addition, single character regular expressions will *not* be treated as literal strings when regex=True.\n",
      "  df.columns = df.columns.str.strip().str.lower().str.replace(' ', '_').str.replace('(', '').str.replace(')', '')\n"
     ]
    },
    {
     "name": "stdout",
     "output_type": "stream",
     "text": [
      "Zip archive: data/original/DWD/hourly/air_temperature/historical/stundenwerte_TU_01766_19891001_20201231_hist.zip\n",
      "Extract product file: produkt_tu_stunde_19891001_20201231_01766.txt\n",
      "\n"
     ]
    },
    {
     "name": "stderr",
     "output_type": "stream",
     "text": [
      "/var/folders/bs/8_rscwxd25z1bcq4d89vsz380000gn/T/ipykernel_82728/4171902304.py:9: FutureWarning: The default value of regex will change from True to False in a future version. In addition, single character regular expressions will *not* be treated as literal strings when regex=True.\n",
      "  df.columns = df.columns.str.strip().str.lower().str.replace(' ', '_').str.replace('(', '').str.replace(')', '')\n",
      "/var/folders/bs/8_rscwxd25z1bcq4d89vsz380000gn/T/ipykernel_82728/4171902304.py:9: FutureWarning: The default value of regex will change from True to False in a future version. In addition, single character regular expressions will *not* be treated as literal strings when regex=True.\n",
      "  df.columns = df.columns.str.strip().str.lower().str.replace(' ', '_').str.replace('(', '').str.replace(')', '')\n"
     ]
    },
    {
     "name": "stdout",
     "output_type": "stream",
     "text": [
      "Zip archive: data/original/DWD/hourly/air_temperature/historical/stundenwerte_TU_02110_20030101_20201231_hist.zip\n",
      "Extract product file: produkt_tu_stunde_20030101_20201231_02110.txt\n",
      "\n"
     ]
    },
    {
     "name": "stderr",
     "output_type": "stream",
     "text": [
      "/var/folders/bs/8_rscwxd25z1bcq4d89vsz380000gn/T/ipykernel_82728/4171902304.py:9: FutureWarning: The default value of regex will change from True to False in a future version. In addition, single character regular expressions will *not* be treated as literal strings when regex=True.\n",
      "  df.columns = df.columns.str.strip().str.lower().str.replace(' ', '_').str.replace('(', '').str.replace(')', '')\n",
      "/var/folders/bs/8_rscwxd25z1bcq4d89vsz380000gn/T/ipykernel_82728/4171902304.py:9: FutureWarning: The default value of regex will change from True to False in a future version. In addition, single character regular expressions will *not* be treated as literal strings when regex=True.\n",
      "  df.columns = df.columns.str.strip().str.lower().str.replace(' ', '_').str.replace('(', '').str.replace(')', '')\n"
     ]
    },
    {
     "name": "stdout",
     "output_type": "stream",
     "text": [
      "Zip archive: data/original/DWD/hourly/air_temperature/historical/stundenwerte_TU_02483_19510101_20201231_hist.zip\n",
      "Extract product file: produkt_tu_stunde_19510101_20201231_02483.txt\n",
      "\n"
     ]
    },
    {
     "name": "stderr",
     "output_type": "stream",
     "text": [
      "/var/folders/bs/8_rscwxd25z1bcq4d89vsz380000gn/T/ipykernel_82728/4171902304.py:9: FutureWarning: The default value of regex will change from True to False in a future version. In addition, single character regular expressions will *not* be treated as literal strings when regex=True.\n",
      "  df.columns = df.columns.str.strip().str.lower().str.replace(' ', '_').str.replace('(', '').str.replace(')', '')\n",
      "/var/folders/bs/8_rscwxd25z1bcq4d89vsz380000gn/T/ipykernel_82728/4171902304.py:9: FutureWarning: The default value of regex will change from True to False in a future version. In addition, single character regular expressions will *not* be treated as literal strings when regex=True.\n",
      "  df.columns = df.columns.str.strip().str.lower().str.replace(' ', '_').str.replace('(', '').str.replace(')', '')\n"
     ]
    },
    {
     "name": "stdout",
     "output_type": "stream",
     "text": [
      "Zip archive: data/original/DWD/hourly/air_temperature/historical/stundenwerte_TU_02497_20040801_20201231_hist.zip\n",
      "Extract product file: produkt_tu_stunde_20040801_20201231_02497.txt\n",
      "\n"
     ]
    },
    {
     "name": "stderr",
     "output_type": "stream",
     "text": [
      "/var/folders/bs/8_rscwxd25z1bcq4d89vsz380000gn/T/ipykernel_82728/4171902304.py:9: FutureWarning: The default value of regex will change from True to False in a future version. In addition, single character regular expressions will *not* be treated as literal strings when regex=True.\n",
      "  df.columns = df.columns.str.strip().str.lower().str.replace(' ', '_').str.replace('(', '').str.replace(')', '')\n",
      "/var/folders/bs/8_rscwxd25z1bcq4d89vsz380000gn/T/ipykernel_82728/4171902304.py:9: FutureWarning: The default value of regex will change from True to False in a future version. In addition, single character regular expressions will *not* be treated as literal strings when regex=True.\n",
      "  df.columns = df.columns.str.strip().str.lower().str.replace(' ', '_').str.replace('(', '').str.replace(')', '')\n"
     ]
    },
    {
     "name": "stdout",
     "output_type": "stream",
     "text": [
      "Zip archive: data/original/DWD/hourly/air_temperature/historical/stundenwerte_TU_02629_20040701_20201231_hist.zip\n",
      "Extract product file: produkt_tu_stunde_20040701_20201231_02629.txt\n",
      "\n"
     ]
    },
    {
     "name": "stderr",
     "output_type": "stream",
     "text": [
      "/var/folders/bs/8_rscwxd25z1bcq4d89vsz380000gn/T/ipykernel_82728/4171902304.py:9: FutureWarning: The default value of regex will change from True to False in a future version. In addition, single character regular expressions will *not* be treated as literal strings when regex=True.\n",
      "  df.columns = df.columns.str.strip().str.lower().str.replace(' ', '_').str.replace('(', '').str.replace(')', '')\n",
      "/var/folders/bs/8_rscwxd25z1bcq4d89vsz380000gn/T/ipykernel_82728/4171902304.py:9: FutureWarning: The default value of regex will change from True to False in a future version. In addition, single character regular expressions will *not* be treated as literal strings when regex=True.\n",
      "  df.columns = df.columns.str.strip().str.lower().str.replace(' ', '_').str.replace('(', '').str.replace(')', '')\n"
     ]
    },
    {
     "name": "stdout",
     "output_type": "stream",
     "text": [
      "Zip archive: data/original/DWD/hourly/air_temperature/historical/stundenwerte_TU_02667_19600101_20201231_hist.zip\n",
      "Extract product file: produkt_tu_stunde_19600101_20201231_02667.txt\n",
      "\n"
     ]
    },
    {
     "name": "stderr",
     "output_type": "stream",
     "text": [
      "/var/folders/bs/8_rscwxd25z1bcq4d89vsz380000gn/T/ipykernel_82728/4171902304.py:9: FutureWarning: The default value of regex will change from True to False in a future version. In addition, single character regular expressions will *not* be treated as literal strings when regex=True.\n",
      "  df.columns = df.columns.str.strip().str.lower().str.replace(' ', '_').str.replace('(', '').str.replace(')', '')\n",
      "/var/folders/bs/8_rscwxd25z1bcq4d89vsz380000gn/T/ipykernel_82728/4171902304.py:9: FutureWarning: The default value of regex will change from True to False in a future version. In addition, single character regular expressions will *not* be treated as literal strings when regex=True.\n",
      "  df.columns = df.columns.str.strip().str.lower().str.replace(' ', '_').str.replace('(', '').str.replace(')', '')\n"
     ]
    },
    {
     "name": "stdout",
     "output_type": "stream",
     "text": [
      "Zip archive: data/original/DWD/hourly/air_temperature/historical/stundenwerte_TU_02947_20061001_20201231_hist.zip\n",
      "Extract product file: produkt_tu_stunde_20061001_20201231_02947.txt\n",
      "\n"
     ]
    },
    {
     "name": "stderr",
     "output_type": "stream",
     "text": [
      "/var/folders/bs/8_rscwxd25z1bcq4d89vsz380000gn/T/ipykernel_82728/4171902304.py:9: FutureWarning: The default value of regex will change from True to False in a future version. In addition, single character regular expressions will *not* be treated as literal strings when regex=True.\n",
      "  df.columns = df.columns.str.strip().str.lower().str.replace(' ', '_').str.replace('(', '').str.replace(')', '')\n",
      "/var/folders/bs/8_rscwxd25z1bcq4d89vsz380000gn/T/ipykernel_82728/4171902304.py:9: FutureWarning: The default value of regex will change from True to False in a future version. In addition, single character regular expressions will *not* be treated as literal strings when regex=True.\n",
      "  df.columns = df.columns.str.strip().str.lower().str.replace(' ', '_').str.replace('(', '').str.replace(')', '')\n"
     ]
    },
    {
     "name": "stdout",
     "output_type": "stream",
     "text": [
      "Zip archive: data/original/DWD/hourly/air_temperature/historical/stundenwerte_TU_02968_20081201_20201231_hist.zip\n",
      "Extract product file: produkt_tu_stunde_20081201_20201231_02968.txt\n",
      "\n"
     ]
    },
    {
     "name": "stderr",
     "output_type": "stream",
     "text": [
      "/var/folders/bs/8_rscwxd25z1bcq4d89vsz380000gn/T/ipykernel_82728/4171902304.py:9: FutureWarning: The default value of regex will change from True to False in a future version. In addition, single character regular expressions will *not* be treated as literal strings when regex=True.\n",
      "  df.columns = df.columns.str.strip().str.lower().str.replace(' ', '_').str.replace('(', '').str.replace(')', '')\n",
      "/var/folders/bs/8_rscwxd25z1bcq4d89vsz380000gn/T/ipykernel_82728/4171902304.py:9: FutureWarning: The default value of regex will change from True to False in a future version. In addition, single character regular expressions will *not* be treated as literal strings when regex=True.\n",
      "  df.columns = df.columns.str.strip().str.lower().str.replace(' ', '_').str.replace('(', '').str.replace(')', '')\n"
     ]
    },
    {
     "name": "stdout",
     "output_type": "stream",
     "text": [
      "Zip archive: data/original/DWD/hourly/air_temperature/historical/stundenwerte_TU_03028_19710401_20201231_hist.zip\n",
      "Extract product file: produkt_tu_stunde_19710401_20201231_03028.txt\n",
      "\n"
     ]
    },
    {
     "name": "stderr",
     "output_type": "stream",
     "text": [
      "/var/folders/bs/8_rscwxd25z1bcq4d89vsz380000gn/T/ipykernel_82728/4171902304.py:9: FutureWarning: The default value of regex will change from True to False in a future version. In addition, single character regular expressions will *not* be treated as literal strings when regex=True.\n",
      "  df.columns = df.columns.str.strip().str.lower().str.replace(' ', '_').str.replace('(', '').str.replace(')', '')\n",
      "/var/folders/bs/8_rscwxd25z1bcq4d89vsz380000gn/T/ipykernel_82728/4171902304.py:9: FutureWarning: The default value of regex will change from True to False in a future version. In addition, single character regular expressions will *not* be treated as literal strings when regex=True.\n",
      "  df.columns = df.columns.str.strip().str.lower().str.replace(' ', '_').str.replace('(', '').str.replace(')', '')\n"
     ]
    },
    {
     "name": "stdout",
     "output_type": "stream",
     "text": [
      "Zip archive: data/original/DWD/hourly/air_temperature/historical/stundenwerte_TU_03031_20040701_20201231_hist.zip\n",
      "Extract product file: produkt_tu_stunde_20040701_20201231_03031.txt\n",
      "\n"
     ]
    },
    {
     "name": "stderr",
     "output_type": "stream",
     "text": [
      "/var/folders/bs/8_rscwxd25z1bcq4d89vsz380000gn/T/ipykernel_82728/4171902304.py:9: FutureWarning: The default value of regex will change from True to False in a future version. In addition, single character regular expressions will *not* be treated as literal strings when regex=True.\n",
      "  df.columns = df.columns.str.strip().str.lower().str.replace(' ', '_').str.replace('(', '').str.replace(')', '')\n",
      "/var/folders/bs/8_rscwxd25z1bcq4d89vsz380000gn/T/ipykernel_82728/4171902304.py:9: FutureWarning: The default value of regex will change from True to False in a future version. In addition, single character regular expressions will *not* be treated as literal strings when regex=True.\n",
      "  df.columns = df.columns.str.strip().str.lower().str.replace(' ', '_').str.replace('(', '').str.replace(')', '')\n"
     ]
    },
    {
     "name": "stdout",
     "output_type": "stream",
     "text": [
      "Zip archive: data/original/DWD/hourly/air_temperature/historical/stundenwerte_TU_03098_19940101_20201231_hist.zip\n",
      "Extract product file: produkt_tu_stunde_19940101_20201231_03098.txt\n",
      "\n"
     ]
    },
    {
     "name": "stderr",
     "output_type": "stream",
     "text": [
      "/var/folders/bs/8_rscwxd25z1bcq4d89vsz380000gn/T/ipykernel_82728/4171902304.py:9: FutureWarning: The default value of regex will change from True to False in a future version. In addition, single character regular expressions will *not* be treated as literal strings when regex=True.\n",
      "  df.columns = df.columns.str.strip().str.lower().str.replace(' ', '_').str.replace('(', '').str.replace(')', '')\n",
      "/var/folders/bs/8_rscwxd25z1bcq4d89vsz380000gn/T/ipykernel_82728/4171902304.py:9: FutureWarning: The default value of regex will change from True to False in a future version. In addition, single character regular expressions will *not* be treated as literal strings when regex=True.\n",
      "  df.columns = df.columns.str.strip().str.lower().str.replace(' ', '_').str.replace('(', '').str.replace(')', '')\n"
     ]
    },
    {
     "name": "stdout",
     "output_type": "stream",
     "text": [
      "Zip archive: data/original/DWD/hourly/air_temperature/historical/stundenwerte_TU_03540_20041101_20201231_hist.zip\n",
      "Extract product file: produkt_tu_stunde_20041101_20201231_03540.txt\n",
      "\n"
     ]
    },
    {
     "name": "stderr",
     "output_type": "stream",
     "text": [
      "/var/folders/bs/8_rscwxd25z1bcq4d89vsz380000gn/T/ipykernel_82728/4171902304.py:9: FutureWarning: The default value of regex will change from True to False in a future version. In addition, single character regular expressions will *not* be treated as literal strings when regex=True.\n",
      "  df.columns = df.columns.str.strip().str.lower().str.replace(' ', '_').str.replace('(', '').str.replace(')', '')\n",
      "/var/folders/bs/8_rscwxd25z1bcq4d89vsz380000gn/T/ipykernel_82728/4171902304.py:9: FutureWarning: The default value of regex will change from True to False in a future version. In addition, single character regular expressions will *not* be treated as literal strings when regex=True.\n",
      "  df.columns = df.columns.str.strip().str.lower().str.replace(' ', '_').str.replace('(', '').str.replace(')', '')\n"
     ]
    },
    {
     "name": "stdout",
     "output_type": "stream",
     "text": [
      "Zip archive: data/original/DWD/hourly/air_temperature/historical/stundenwerte_TU_03591_20040601_20201231_hist.zip\n",
      "Extract product file: produkt_tu_stunde_20040601_20201231_03591.txt\n",
      "\n"
     ]
    },
    {
     "name": "stderr",
     "output_type": "stream",
     "text": [
      "/var/folders/bs/8_rscwxd25z1bcq4d89vsz380000gn/T/ipykernel_82728/4171902304.py:9: FutureWarning: The default value of regex will change from True to False in a future version. In addition, single character regular expressions will *not* be treated as literal strings when regex=True.\n",
      "  df.columns = df.columns.str.strip().str.lower().str.replace(' ', '_').str.replace('(', '').str.replace(')', '')\n",
      "/var/folders/bs/8_rscwxd25z1bcq4d89vsz380000gn/T/ipykernel_82728/4171902304.py:9: FutureWarning: The default value of regex will change from True to False in a future version. In addition, single character regular expressions will *not* be treated as literal strings when regex=True.\n",
      "  df.columns = df.columns.str.strip().str.lower().str.replace(' ', '_').str.replace('(', '').str.replace(')', '')\n"
     ]
    },
    {
     "name": "stdout",
     "output_type": "stream",
     "text": [
      "Zip archive: data/original/DWD/hourly/air_temperature/historical/stundenwerte_TU_03623_20020101_20201231_hist.zip\n",
      "Extract product file: produkt_tu_stunde_20020101_20201231_03623.txt\n",
      "\n"
     ]
    },
    {
     "name": "stderr",
     "output_type": "stream",
     "text": [
      "/var/folders/bs/8_rscwxd25z1bcq4d89vsz380000gn/T/ipykernel_82728/4171902304.py:9: FutureWarning: The default value of regex will change from True to False in a future version. In addition, single character regular expressions will *not* be treated as literal strings when regex=True.\n",
      "  df.columns = df.columns.str.strip().str.lower().str.replace(' ', '_').str.replace('(', '').str.replace(')', '')\n",
      "/var/folders/bs/8_rscwxd25z1bcq4d89vsz380000gn/T/ipykernel_82728/4171902304.py:9: FutureWarning: The default value of regex will change from True to False in a future version. In addition, single character regular expressions will *not* be treated as literal strings when regex=True.\n",
      "  df.columns = df.columns.str.strip().str.lower().str.replace(' ', '_').str.replace('(', '').str.replace(')', '')\n"
     ]
    },
    {
     "name": "stdout",
     "output_type": "stream",
     "text": [
      "Zip archive: data/original/DWD/hourly/air_temperature/historical/stundenwerte_TU_04063_20030701_20201231_hist.zip\n",
      "Extract product file: produkt_tu_stunde_20030701_20201231_04063.txt\n",
      "\n"
     ]
    },
    {
     "name": "stderr",
     "output_type": "stream",
     "text": [
      "/var/folders/bs/8_rscwxd25z1bcq4d89vsz380000gn/T/ipykernel_82728/4171902304.py:9: FutureWarning: The default value of regex will change from True to False in a future version. In addition, single character regular expressions will *not* be treated as literal strings when regex=True.\n",
      "  df.columns = df.columns.str.strip().str.lower().str.replace(' ', '_').str.replace('(', '').str.replace(')', '')\n",
      "/var/folders/bs/8_rscwxd25z1bcq4d89vsz380000gn/T/ipykernel_82728/4171902304.py:9: FutureWarning: The default value of regex will change from True to False in a future version. In addition, single character regular expressions will *not* be treated as literal strings when regex=True.\n",
      "  df.columns = df.columns.str.strip().str.lower().str.replace(' ', '_').str.replace('(', '').str.replace(')', '')\n"
     ]
    },
    {
     "name": "stdout",
     "output_type": "stream",
     "text": [
      "Zip archive: data/original/DWD/hourly/air_temperature/historical/stundenwerte_TU_04127_20050101_20201231_hist.zip\n",
      "Extract product file: produkt_tu_stunde_20050101_20201231_04127.txt\n",
      "\n"
     ]
    },
    {
     "name": "stderr",
     "output_type": "stream",
     "text": [
      "/var/folders/bs/8_rscwxd25z1bcq4d89vsz380000gn/T/ipykernel_82728/4171902304.py:9: FutureWarning: The default value of regex will change from True to False in a future version. In addition, single character regular expressions will *not* be treated as literal strings when regex=True.\n",
      "  df.columns = df.columns.str.strip().str.lower().str.replace(' ', '_').str.replace('(', '').str.replace(')', '')\n",
      "/var/folders/bs/8_rscwxd25z1bcq4d89vsz380000gn/T/ipykernel_82728/4171902304.py:9: FutureWarning: The default value of regex will change from True to False in a future version. In addition, single character regular expressions will *not* be treated as literal strings when regex=True.\n",
      "  df.columns = df.columns.str.strip().str.lower().str.replace(' ', '_').str.replace('(', '').str.replace(')', '')\n"
     ]
    },
    {
     "name": "stdout",
     "output_type": "stream",
     "text": [
      "Zip archive: data/original/DWD/hourly/air_temperature/historical/stundenwerte_TU_04371_19500101_20201231_hist.zip\n",
      "Extract product file: produkt_tu_stunde_19500101_20201231_04371.txt\n",
      "\n"
     ]
    },
    {
     "name": "stderr",
     "output_type": "stream",
     "text": [
      "/var/folders/bs/8_rscwxd25z1bcq4d89vsz380000gn/T/ipykernel_82728/4171902304.py:9: FutureWarning: The default value of regex will change from True to False in a future version. In addition, single character regular expressions will *not* be treated as literal strings when regex=True.\n",
      "  df.columns = df.columns.str.strip().str.lower().str.replace(' ', '_').str.replace('(', '').str.replace(')', '')\n",
      "/var/folders/bs/8_rscwxd25z1bcq4d89vsz380000gn/T/ipykernel_82728/4171902304.py:9: FutureWarning: The default value of regex will change from True to False in a future version. In addition, single character regular expressions will *not* be treated as literal strings when regex=True.\n",
      "  df.columns = df.columns.str.strip().str.lower().str.replace(' ', '_').str.replace('(', '').str.replace(')', '')\n"
     ]
    },
    {
     "name": "stdout",
     "output_type": "stream",
     "text": [
      "Zip archive: data/original/DWD/hourly/air_temperature/historical/stundenwerte_TU_05064_20041201_20201231_hist.zip\n",
      "Extract product file: produkt_tu_stunde_20041201_20201231_05064.txt\n",
      "\n"
     ]
    },
    {
     "name": "stderr",
     "output_type": "stream",
     "text": [
      "/var/folders/bs/8_rscwxd25z1bcq4d89vsz380000gn/T/ipykernel_82728/4171902304.py:9: FutureWarning: The default value of regex will change from True to False in a future version. In addition, single character regular expressions will *not* be treated as literal strings when regex=True.\n",
      "  df.columns = df.columns.str.strip().str.lower().str.replace(' ', '_').str.replace('(', '').str.replace(')', '')\n",
      "/var/folders/bs/8_rscwxd25z1bcq4d89vsz380000gn/T/ipykernel_82728/4171902304.py:9: FutureWarning: The default value of regex will change from True to False in a future version. In addition, single character regular expressions will *not* be treated as literal strings when regex=True.\n",
      "  df.columns = df.columns.str.strip().str.lower().str.replace(' ', '_').str.replace('(', '').str.replace(')', '')\n"
     ]
    },
    {
     "name": "stdout",
     "output_type": "stream",
     "text": [
      "Zip archive: data/original/DWD/hourly/air_temperature/historical/stundenwerte_TU_05347_20010402_20201231_hist.zip\n",
      "Extract product file: produkt_tu_stunde_20010402_20201231_05347.txt\n",
      "\n"
     ]
    },
    {
     "name": "stderr",
     "output_type": "stream",
     "text": [
      "/var/folders/bs/8_rscwxd25z1bcq4d89vsz380000gn/T/ipykernel_82728/4171902304.py:9: FutureWarning: The default value of regex will change from True to False in a future version. In addition, single character regular expressions will *not* be treated as literal strings when regex=True.\n",
      "  df.columns = df.columns.str.strip().str.lower().str.replace(' ', '_').str.replace('(', '').str.replace(')', '')\n",
      "/var/folders/bs/8_rscwxd25z1bcq4d89vsz380000gn/T/ipykernel_82728/4171902304.py:9: FutureWarning: The default value of regex will change from True to False in a future version. In addition, single character regular expressions will *not* be treated as literal strings when regex=True.\n",
      "  df.columns = df.columns.str.strip().str.lower().str.replace(' ', '_').str.replace('(', '').str.replace(')', '')\n"
     ]
    },
    {
     "name": "stdout",
     "output_type": "stream",
     "text": [
      "Zip archive: data/original/DWD/hourly/air_temperature/historical/stundenwerte_TU_05480_20030910_20201231_hist.zip\n",
      "Extract product file: produkt_tu_stunde_20030910_20201231_05480.txt\n",
      "\n"
     ]
    },
    {
     "name": "stderr",
     "output_type": "stream",
     "text": [
      "/var/folders/bs/8_rscwxd25z1bcq4d89vsz380000gn/T/ipykernel_82728/4171902304.py:9: FutureWarning: The default value of regex will change from True to False in a future version. In addition, single character regular expressions will *not* be treated as literal strings when regex=True.\n",
      "  df.columns = df.columns.str.strip().str.lower().str.replace(' ', '_').str.replace('(', '').str.replace(')', '')\n",
      "/var/folders/bs/8_rscwxd25z1bcq4d89vsz380000gn/T/ipykernel_82728/4171902304.py:9: FutureWarning: The default value of regex will change from True to False in a future version. In addition, single character regular expressions will *not* be treated as literal strings when regex=True.\n",
      "  df.columns = df.columns.str.strip().str.lower().str.replace(' ', '_').str.replace('(', '').str.replace(')', '')\n"
     ]
    },
    {
     "name": "stdout",
     "output_type": "stream",
     "text": [
      "Zip archive: data/original/DWD/hourly/air_temperature/historical/stundenwerte_TU_05717_20060901_20201231_hist.zip\n",
      "Extract product file: produkt_tu_stunde_20060901_20201231_05717.txt\n",
      "\n"
     ]
    },
    {
     "name": "stderr",
     "output_type": "stream",
     "text": [
      "/var/folders/bs/8_rscwxd25z1bcq4d89vsz380000gn/T/ipykernel_82728/4171902304.py:9: FutureWarning: The default value of regex will change from True to False in a future version. In addition, single character regular expressions will *not* be treated as literal strings when regex=True.\n",
      "  df.columns = df.columns.str.strip().str.lower().str.replace(' ', '_').str.replace('(', '').str.replace(')', '')\n",
      "/var/folders/bs/8_rscwxd25z1bcq4d89vsz380000gn/T/ipykernel_82728/4171902304.py:9: FutureWarning: The default value of regex will change from True to False in a future version. In addition, single character regular expressions will *not* be treated as literal strings when regex=True.\n",
      "  df.columns = df.columns.str.strip().str.lower().str.replace(' ', '_').str.replace('(', '').str.replace(')', '')\n"
     ]
    },
    {
     "name": "stdout",
     "output_type": "stream",
     "text": [
      "Zip archive: data/original/DWD/hourly/air_temperature/historical/stundenwerte_TU_06197_20020101_20201231_hist.zip\n",
      "Extract product file: produkt_tu_stunde_20020101_20201231_06197.txt\n",
      "\n"
     ]
    },
    {
     "name": "stderr",
     "output_type": "stream",
     "text": [
      "/var/folders/bs/8_rscwxd25z1bcq4d89vsz380000gn/T/ipykernel_82728/4171902304.py:9: FutureWarning: The default value of regex will change from True to False in a future version. In addition, single character regular expressions will *not* be treated as literal strings when regex=True.\n",
      "  df.columns = df.columns.str.strip().str.lower().str.replace(' ', '_').str.replace('(', '').str.replace(')', '')\n",
      "/var/folders/bs/8_rscwxd25z1bcq4d89vsz380000gn/T/ipykernel_82728/4171902304.py:9: FutureWarning: The default value of regex will change from True to False in a future version. In addition, single character regular expressions will *not* be treated as literal strings when regex=True.\n",
      "  df.columns = df.columns.str.strip().str.lower().str.replace(' ', '_').str.replace('(', '').str.replace(')', '')\n"
     ]
    },
    {
     "name": "stdout",
     "output_type": "stream",
     "text": [
      "Zip archive: data/original/DWD/hourly/air_temperature/historical/stundenwerte_TU_06264_20040601_20201231_hist.zip\n",
      "Extract product file: produkt_tu_stunde_20040601_20201231_06264.txt\n",
      "\n"
     ]
    },
    {
     "name": "stderr",
     "output_type": "stream",
     "text": [
      "/var/folders/bs/8_rscwxd25z1bcq4d89vsz380000gn/T/ipykernel_82728/4171902304.py:9: FutureWarning: The default value of regex will change from True to False in a future version. In addition, single character regular expressions will *not* be treated as literal strings when regex=True.\n",
      "  df.columns = df.columns.str.strip().str.lower().str.replace(' ', '_').str.replace('(', '').str.replace(')', '')\n",
      "/var/folders/bs/8_rscwxd25z1bcq4d89vsz380000gn/T/ipykernel_82728/4171902304.py:9: FutureWarning: The default value of regex will change from True to False in a future version. In addition, single character regular expressions will *not* be treated as literal strings when regex=True.\n",
      "  df.columns = df.columns.str.strip().str.lower().str.replace(' ', '_').str.replace('(', '').str.replace(')', '')\n"
     ]
    },
    {
     "name": "stdout",
     "output_type": "stream",
     "text": [
      "Zip archive: data/original/DWD/hourly/air_temperature/historical/stundenwerte_TU_06337_20040801_20201231_hist.zip\n",
      "Extract product file: produkt_tu_stunde_20040801_20201231_06337.txt\n",
      "\n"
     ]
    },
    {
     "name": "stderr",
     "output_type": "stream",
     "text": [
      "/var/folders/bs/8_rscwxd25z1bcq4d89vsz380000gn/T/ipykernel_82728/4171902304.py:9: FutureWarning: The default value of regex will change from True to False in a future version. In addition, single character regular expressions will *not* be treated as literal strings when regex=True.\n",
      "  df.columns = df.columns.str.strip().str.lower().str.replace(' ', '_').str.replace('(', '').str.replace(')', '')\n",
      "/var/folders/bs/8_rscwxd25z1bcq4d89vsz380000gn/T/ipykernel_82728/4171902304.py:9: FutureWarning: The default value of regex will change from True to False in a future version. In addition, single character regular expressions will *not* be treated as literal strings when regex=True.\n",
      "  df.columns = df.columns.str.strip().str.lower().str.replace(' ', '_').str.replace('(', '').str.replace(')', '')\n"
     ]
    },
    {
     "name": "stdout",
     "output_type": "stream",
     "text": [
      "Zip archive: data/original/DWD/hourly/air_temperature/historical/stundenwerte_TU_07106_20060901_20201231_hist.zip\n",
      "Extract product file: produkt_tu_stunde_20060901_20201231_07106.txt\n",
      "\n"
     ]
    },
    {
     "name": "stderr",
     "output_type": "stream",
     "text": [
      "/var/folders/bs/8_rscwxd25z1bcq4d89vsz380000gn/T/ipykernel_82728/4171902304.py:9: FutureWarning: The default value of regex will change from True to False in a future version. In addition, single character regular expressions will *not* be treated as literal strings when regex=True.\n",
      "  df.columns = df.columns.str.strip().str.lower().str.replace(' ', '_').str.replace('(', '').str.replace(')', '')\n",
      "/var/folders/bs/8_rscwxd25z1bcq4d89vsz380000gn/T/ipykernel_82728/4171902304.py:9: FutureWarning: The default value of regex will change from True to False in a future version. In addition, single character regular expressions will *not* be treated as literal strings when regex=True.\n",
      "  df.columns = df.columns.str.strip().str.lower().str.replace(' ', '_').str.replace('(', '').str.replace(')', '')\n"
     ]
    },
    {
     "name": "stdout",
     "output_type": "stream",
     "text": [
      "Zip archive: data/original/DWD/hourly/air_temperature/historical/stundenwerte_TU_07330_20051001_20201231_hist.zip\n",
      "Extract product file: produkt_tu_stunde_20051001_20201231_07330.txt\n",
      "\n"
     ]
    },
    {
     "name": "stderr",
     "output_type": "stream",
     "text": [
      "/var/folders/bs/8_rscwxd25z1bcq4d89vsz380000gn/T/ipykernel_82728/4171902304.py:9: FutureWarning: The default value of regex will change from True to False in a future version. In addition, single character regular expressions will *not* be treated as literal strings when regex=True.\n",
      "  df.columns = df.columns.str.strip().str.lower().str.replace(' ', '_').str.replace('(', '').str.replace(')', '')\n",
      "/var/folders/bs/8_rscwxd25z1bcq4d89vsz380000gn/T/ipykernel_82728/4171902304.py:9: FutureWarning: The default value of regex will change from True to False in a future version. In addition, single character regular expressions will *not* be treated as literal strings when regex=True.\n",
      "  df.columns = df.columns.str.strip().str.lower().str.replace(' ', '_').str.replace('(', '').str.replace(')', '')\n"
     ]
    },
    {
     "name": "stdout",
     "output_type": "stream",
     "text": [
      "Zip archive: data/original/DWD/hourly/air_temperature/historical/stundenwerte_TU_07374_20060301_20201231_hist.zip\n",
      "Extract product file: produkt_tu_stunde_20060301_20201231_07374.txt\n",
      "\n"
     ]
    },
    {
     "name": "stderr",
     "output_type": "stream",
     "text": [
      "/var/folders/bs/8_rscwxd25z1bcq4d89vsz380000gn/T/ipykernel_82728/4171902304.py:9: FutureWarning: The default value of regex will change from True to False in a future version. In addition, single character regular expressions will *not* be treated as literal strings when regex=True.\n",
      "  df.columns = df.columns.str.strip().str.lower().str.replace(' ', '_').str.replace('(', '').str.replace(')', '')\n",
      "/var/folders/bs/8_rscwxd25z1bcq4d89vsz380000gn/T/ipykernel_82728/4171902304.py:9: FutureWarning: The default value of regex will change from True to False in a future version. In addition, single character regular expressions will *not* be treated as literal strings when regex=True.\n",
      "  df.columns = df.columns.str.strip().str.lower().str.replace(' ', '_').str.replace('(', '').str.replace(')', '')\n"
     ]
    },
    {
     "name": "stdout",
     "output_type": "stream",
     "text": [
      "Zip archive: data/original/DWD/hourly/air_temperature/historical/stundenwerte_TU_13670_20070601_20201231_hist.zip\n",
      "Extract product file: produkt_tu_stunde_20070601_20201231_13670.txt\n",
      "\n"
     ]
    },
    {
     "name": "stderr",
     "output_type": "stream",
     "text": [
      "/var/folders/bs/8_rscwxd25z1bcq4d89vsz380000gn/T/ipykernel_82728/4171902304.py:9: FutureWarning: The default value of regex will change from True to False in a future version. In addition, single character regular expressions will *not* be treated as literal strings when regex=True.\n",
      "  df.columns = df.columns.str.strip().str.lower().str.replace(' ', '_').str.replace('(', '').str.replace(')', '')\n",
      "/var/folders/bs/8_rscwxd25z1bcq4d89vsz380000gn/T/ipykernel_82728/4171902304.py:9: FutureWarning: The default value of regex will change from True to False in a future version. In addition, single character regular expressions will *not* be treated as literal strings when regex=True.\n",
      "  df.columns = df.columns.str.strip().str.lower().str.replace(' ', '_').str.replace('(', '').str.replace(')', '')\n"
     ]
    },
    {
     "name": "stdout",
     "output_type": "stream",
     "text": [
      "Zip archive: data/original/DWD/hourly/air_temperature/historical/stundenwerte_TU_13696_20071201_20201231_hist.zip\n",
      "Extract product file: produkt_tu_stunde_20071201_20201231_13696.txt\n",
      "\n"
     ]
    },
    {
     "name": "stderr",
     "output_type": "stream",
     "text": [
      "/var/folders/bs/8_rscwxd25z1bcq4d89vsz380000gn/T/ipykernel_82728/4171902304.py:9: FutureWarning: The default value of regex will change from True to False in a future version. In addition, single character regular expressions will *not* be treated as literal strings when regex=True.\n",
      "  df.columns = df.columns.str.strip().str.lower().str.replace(' ', '_').str.replace('(', '').str.replace(')', '')\n",
      "/var/folders/bs/8_rscwxd25z1bcq4d89vsz380000gn/T/ipykernel_82728/4171902304.py:9: FutureWarning: The default value of regex will change from True to False in a future version. In addition, single character regular expressions will *not* be treated as literal strings when regex=True.\n",
      "  df.columns = df.columns.str.strip().str.lower().str.replace(' ', '_').str.replace('(', '').str.replace(')', '')\n"
     ]
    },
    {
     "name": "stdout",
     "output_type": "stream",
     "text": [
      "Zip archive: data/original/DWD/hourly/air_temperature/historical/stundenwerte_TU_13700_20080501_20201231_hist.zip\n",
      "Extract product file: produkt_tu_stunde_20080501_20201231_13700.txt\n",
      "\n"
     ]
    },
    {
     "name": "stderr",
     "output_type": "stream",
     "text": [
      "/var/folders/bs/8_rscwxd25z1bcq4d89vsz380000gn/T/ipykernel_82728/4171902304.py:9: FutureWarning: The default value of regex will change from True to False in a future version. In addition, single character regular expressions will *not* be treated as literal strings when regex=True.\n",
      "  df.columns = df.columns.str.strip().str.lower().str.replace(' ', '_').str.replace('(', '').str.replace(')', '')\n",
      "/var/folders/bs/8_rscwxd25z1bcq4d89vsz380000gn/T/ipykernel_82728/4171902304.py:9: FutureWarning: The default value of regex will change from True to False in a future version. In addition, single character regular expressions will *not* be treated as literal strings when regex=True.\n",
      "  df.columns = df.columns.str.strip().str.lower().str.replace(' ', '_').str.replace('(', '').str.replace(')', '')\n"
     ]
    },
    {
     "name": "stdout",
     "output_type": "stream",
     "text": [
      "Zip archive: data/original/DWD/hourly/air_temperature/historical/stundenwerte_TU_13713_20071101_20201231_hist.zip\n",
      "Extract product file: produkt_tu_stunde_20071101_20201231_13713.txt\n",
      "\n"
     ]
    },
    {
     "name": "stderr",
     "output_type": "stream",
     "text": [
      "/var/folders/bs/8_rscwxd25z1bcq4d89vsz380000gn/T/ipykernel_82728/4171902304.py:9: FutureWarning: The default value of regex will change from True to False in a future version. In addition, single character regular expressions will *not* be treated as literal strings when regex=True.\n",
      "  df.columns = df.columns.str.strip().str.lower().str.replace(' ', '_').str.replace('(', '').str.replace(')', '')\n",
      "/var/folders/bs/8_rscwxd25z1bcq4d89vsz380000gn/T/ipykernel_82728/4171902304.py:9: FutureWarning: The default value of regex will change from True to False in a future version. In addition, single character regular expressions will *not* be treated as literal strings when regex=True.\n",
      "  df.columns = df.columns.str.strip().str.lower().str.replace(' ', '_').str.replace('(', '').str.replace(')', '')\n"
     ]
    },
    {
     "name": "stdout",
     "output_type": "stream",
     "text": [
      "Zip archive: data/original/DWD/hourly/air_temperature/historical/stundenwerte_TU_15000_20110401_20201231_hist.zip\n",
      "Extract product file: produkt_tu_stunde_20110401_20201231_15000.txt\n",
      "\n"
     ]
    },
    {
     "name": "stderr",
     "output_type": "stream",
     "text": [
      "/var/folders/bs/8_rscwxd25z1bcq4d89vsz380000gn/T/ipykernel_82728/4171902304.py:9: FutureWarning: The default value of regex will change from True to False in a future version. In addition, single character regular expressions will *not* be treated as literal strings when regex=True.\n",
      "  df.columns = df.columns.str.strip().str.lower().str.replace(' ', '_').str.replace('(', '').str.replace(')', '')\n",
      "/var/folders/bs/8_rscwxd25z1bcq4d89vsz380000gn/T/ipykernel_82728/4171902304.py:9: FutureWarning: The default value of regex will change from True to False in a future version. In addition, single character regular expressions will *not* be treated as literal strings when regex=True.\n",
      "  df.columns = df.columns.str.strip().str.lower().str.replace(' ', '_').str.replace('(', '').str.replace(')', '')\n"
     ]
    }
   ],
   "source": [
    "df_merged_ts = ts_merge()"
   ]
  },
  {
   "cell_type": "markdown",
   "metadata": {},
   "source": [
    "### Description"
   ]
  },
  {
   "cell_type": "markdown",
   "metadata": {},
   "source": [
    "Stations_ID;Von_Datum;Bis_Datum;Stationsname;Parameter;Parameterbeschreibung;Einheit;Datenquelle (Strukturversion=SV);Zusatz-Info;Besonderheiten;Literaturhinweis;eor;\n",
    "3;19500401;19930701;Aachen;RF_TU;relative Feuchte;%;Daten der Temperatur und relativen Feuchte (Stundenwerte) aus analogen Registrierungen (Thermohygrograph);Stundenwerte in MEZ;;;eor;\n",
    "3;19930701;20010401;Aachen;RF_TU;relative Feuchte;%;Daten der Temperatur und relativen Feuchte (Stundenwerte) von automatischen Stationen der 1. Generation (MIRIAM/AFMS2, ESAU-Daten);Stundenwerte in UTC;;;eor;\n",
    "3;20010401;20110331;Aachen;RF_TU;relative Feuchte;%;Daten der Temperatur und relativen Feuchte (Stundenwerte) generiert aus SYNOP-Meldungen (nach dem 01.04.2001);Stundenwerte in UTC;;;eor;\n",
    "3;19500401;19930701;Aachen;TT_TU;Lufttemperatur;∞C;Daten der Temperatur und relativen Feuchte (Stundenwerte) aus analogen Registrierungen (Thermohygrograph);Stundenwerte in MEZ;;;eor;\n",
    "3;19930701;20010401;Aachen;TT_TU;Lufttemperatur;∞C;Daten der Temperatur und relativen Feuchte (Stundenwerte) von automatischen Stationen der 1. Generation (MIRIAM/AFMS2, ESAU-Daten);Stundenwerte in UTC;;;eor;\n",
    "3;20010401;20110331;Aachen;TT_TU;Lufttemperatur;∞C;Daten der Temperatur und relativen Feuchte (Stundenwerte) generiert aus SYNOP-Meldungen (nach dem 01.04.2001);Stundenwerte in UTC;;;eor;\n",
    "Legende: FT  = Folgetag; GZ = Gesetzliche Zeit\n",
    "generiert: 30.03.2021 --  Deutscher Wetterdienst  --\n"
   ]
  },
  {
   "cell_type": "code",
   "execution_count": 88,
   "metadata": {},
   "outputs": [
    {
     "data": {
      "text/html": [
       "<div>\n",
       "<style scoped>\n",
       "    .dataframe tbody tr th:only-of-type {\n",
       "        vertical-align: middle;\n",
       "    }\n",
       "\n",
       "    .dataframe tbody tr th {\n",
       "        vertical-align: top;\n",
       "    }\n",
       "\n",
       "    .dataframe thead th {\n",
       "        text-align: right;\n",
       "    }\n",
       "</style>\n",
       "<table border=\"1\" class=\"dataframe\">\n",
       "  <thead>\n",
       "    <tr style=\"text-align: right;\">\n",
       "      <th></th>\n",
       "      <th>stations_id</th>\n",
       "      <th>mess_datum</th>\n",
       "      <th>qn_9</th>\n",
       "      <th>tt_tu</th>\n",
       "      <th>rf_tu</th>\n",
       "      <th>eor</th>\n",
       "    </tr>\n",
       "  </thead>\n",
       "  <tbody>\n",
       "    <tr>\n",
       "      <th>132181</th>\n",
       "      <td>390</td>\n",
       "      <td>2019-08-01 01:00:00+00:00</td>\n",
       "      <td>3</td>\n",
       "      <td>13.0</td>\n",
       "      <td>79.0</td>\n",
       "      <td>eor</td>\n",
       "    </tr>\n",
       "    <tr>\n",
       "      <th>132182</th>\n",
       "      <td>390</td>\n",
       "      <td>2019-08-01 02:00:00+00:00</td>\n",
       "      <td>3</td>\n",
       "      <td>12.5</td>\n",
       "      <td>82.0</td>\n",
       "      <td>eor</td>\n",
       "    </tr>\n",
       "    <tr>\n",
       "      <th>132183</th>\n",
       "      <td>390</td>\n",
       "      <td>2019-08-01 03:00:00+00:00</td>\n",
       "      <td>3</td>\n",
       "      <td>12.6</td>\n",
       "      <td>83.0</td>\n",
       "      <td>eor</td>\n",
       "    </tr>\n",
       "    <tr>\n",
       "      <th>132184</th>\n",
       "      <td>390</td>\n",
       "      <td>2019-08-01 04:00:00+00:00</td>\n",
       "      <td>3</td>\n",
       "      <td>12.7</td>\n",
       "      <td>83.0</td>\n",
       "      <td>eor</td>\n",
       "    </tr>\n",
       "    <tr>\n",
       "      <th>132185</th>\n",
       "      <td>390</td>\n",
       "      <td>2019-08-01 05:00:00+00:00</td>\n",
       "      <td>3</td>\n",
       "      <td>12.8</td>\n",
       "      <td>82.0</td>\n",
       "      <td>eor</td>\n",
       "    </tr>\n",
       "  </tbody>\n",
       "</table>\n",
       "</div>"
      ],
      "text/plain": [
       "        stations_id                mess_datum  qn_9  tt_tu  rf_tu  eor\n",
       "132181          390 2019-08-01 01:00:00+00:00     3   13.0   79.0  eor\n",
       "132182          390 2019-08-01 02:00:00+00:00     3   12.5   82.0  eor\n",
       "132183          390 2019-08-01 03:00:00+00:00     3   12.6   83.0  eor\n",
       "132184          390 2019-08-01 04:00:00+00:00     3   12.7   83.0  eor\n",
       "132185          390 2019-08-01 05:00:00+00:00     3   12.8   82.0  eor"
      ]
     },
     "execution_count": 88,
     "metadata": {},
     "output_type": "execute_result"
    }
   ],
   "source": [
    "#df_merged_ts['mess_datum']=pd.to_datetime(df_merged_ts['mess_datum'], format='%Y%m%d%H', utc=True, errors='ignore')\n",
    "df_merged_ts.head()"
   ]
  },
  {
   "cell_type": "code",
   "execution_count": 89,
   "metadata": {},
   "outputs": [
    {
     "data": {
      "text/plain": [
       "(510645, 6)"
      ]
     },
     "execution_count": 89,
     "metadata": {},
     "output_type": "execute_result"
    }
   ],
   "source": [
    "df_merged_ts.shape"
   ]
  },
  {
   "cell_type": "code",
   "execution_count": 90,
   "metadata": {},
   "outputs": [
    {
     "data": {
      "text/html": [
       "<div>\n",
       "<style scoped>\n",
       "    .dataframe tbody tr th:only-of-type {\n",
       "        vertical-align: middle;\n",
       "    }\n",
       "\n",
       "    .dataframe tbody tr th {\n",
       "        vertical-align: top;\n",
       "    }\n",
       "\n",
       "    .dataframe thead th {\n",
       "        text-align: right;\n",
       "    }\n",
       "</style>\n",
       "<table border=\"1\" class=\"dataframe\">\n",
       "  <thead>\n",
       "    <tr style=\"text-align: right;\">\n",
       "      <th></th>\n",
       "      <th>date_from</th>\n",
       "      <th>date_to</th>\n",
       "      <th>altitude</th>\n",
       "      <th>latitude</th>\n",
       "      <th>longitude</th>\n",
       "      <th>name</th>\n",
       "      <th>state</th>\n",
       "    </tr>\n",
       "    <tr>\n",
       "      <th>station_id</th>\n",
       "      <th></th>\n",
       "      <th></th>\n",
       "      <th></th>\n",
       "      <th></th>\n",
       "      <th></th>\n",
       "      <th></th>\n",
       "      <th></th>\n",
       "    </tr>\n",
       "  </thead>\n",
       "  <tbody>\n",
       "    <tr>\n",
       "      <th>3</th>\n",
       "      <td>1950-04-01</td>\n",
       "      <td>2011-03-31</td>\n",
       "      <td>202</td>\n",
       "      <td>50.7827</td>\n",
       "      <td>6.0941</td>\n",
       "      <td>Aachen</td>\n",
       "      <td>Nordrhein-Westfalen</td>\n",
       "    </tr>\n",
       "    <tr>\n",
       "      <th>44</th>\n",
       "      <td>2007-04-01</td>\n",
       "      <td>2022-03-09</td>\n",
       "      <td>44</td>\n",
       "      <td>52.9336</td>\n",
       "      <td>8.2370</td>\n",
       "      <td>Großenkneten</td>\n",
       "      <td>Niedersachsen</td>\n",
       "    </tr>\n",
       "  </tbody>\n",
       "</table>\n",
       "</div>"
      ],
      "text/plain": [
       "            date_from    date_to  altitude  latitude  longitude          name  \\\n",
       "station_id                                                                      \n",
       "3          1950-04-01 2011-03-31       202   50.7827     6.0941        Aachen   \n",
       "44         2007-04-01 2022-03-09        44   52.9336     8.2370  Großenkneten   \n",
       "\n",
       "                          state  \n",
       "station_id                       \n",
       "3           Nordrhein-Westfalen  \n",
       "44                Niedersachsen  "
      ]
     },
     "execution_count": 90,
     "metadata": {},
     "output_type": "execute_result"
    }
   ],
   "source": [
    "df_stations.head(2)"
   ]
  },
  {
   "cell_type": "code",
   "execution_count": 91,
   "metadata": {},
   "outputs": [],
   "source": [
    "df_all=df_merged_ts.set_index('stations_id').join(df_stations, how='left')"
   ]
  },
  {
   "cell_type": "code",
   "execution_count": 92,
   "metadata": {},
   "outputs": [],
   "source": [
    "df_merged_ts.to_csv(local_ts_merged_dir + \"ts_merged.csv\",sep=\";\")"
   ]
  },
  {
   "cell_type": "code",
   "execution_count": 93,
   "metadata": {},
   "outputs": [],
   "source": [
    "df_stations.to_csv(local_ts_merged_dir + \"df_stations.csv\",sep=\";\")"
   ]
  },
  {
   "cell_type": "code",
   "execution_count": 94,
   "metadata": {},
   "outputs": [
    {
     "data": {
      "text/html": [
       "<div>\n",
       "<style scoped>\n",
       "    .dataframe tbody tr th:only-of-type {\n",
       "        vertical-align: middle;\n",
       "    }\n",
       "\n",
       "    .dataframe tbody tr th {\n",
       "        vertical-align: top;\n",
       "    }\n",
       "\n",
       "    .dataframe thead th {\n",
       "        text-align: right;\n",
       "    }\n",
       "</style>\n",
       "<table border=\"1\" class=\"dataframe\">\n",
       "  <thead>\n",
       "    <tr style=\"text-align: right;\">\n",
       "      <th></th>\n",
       "      <th>mess_datum</th>\n",
       "      <th>qn_9</th>\n",
       "      <th>tt_tu</th>\n",
       "      <th>rf_tu</th>\n",
       "      <th>eor</th>\n",
       "      <th>date_from</th>\n",
       "      <th>date_to</th>\n",
       "      <th>altitude</th>\n",
       "      <th>latitude</th>\n",
       "      <th>longitude</th>\n",
       "      <th>name</th>\n",
       "      <th>state</th>\n",
       "    </tr>\n",
       "  </thead>\n",
       "  <tbody>\n",
       "    <tr>\n",
       "      <th>390</th>\n",
       "      <td>2019-08-01 01:00:00+00:00</td>\n",
       "      <td>3</td>\n",
       "      <td>13.0</td>\n",
       "      <td>79.0</td>\n",
       "      <td>eor</td>\n",
       "      <td>2004-07-01</td>\n",
       "      <td>2022-03-09</td>\n",
       "      <td>610</td>\n",
       "      <td>50.9837</td>\n",
       "      <td>8.3683</td>\n",
       "      <td>Berleburg, Bad-Stünzel</td>\n",
       "      <td>Nordrhein-Westfalen</td>\n",
       "    </tr>\n",
       "    <tr>\n",
       "      <th>390</th>\n",
       "      <td>2019-08-01 02:00:00+00:00</td>\n",
       "      <td>3</td>\n",
       "      <td>12.5</td>\n",
       "      <td>82.0</td>\n",
       "      <td>eor</td>\n",
       "      <td>2004-07-01</td>\n",
       "      <td>2022-03-09</td>\n",
       "      <td>610</td>\n",
       "      <td>50.9837</td>\n",
       "      <td>8.3683</td>\n",
       "      <td>Berleburg, Bad-Stünzel</td>\n",
       "      <td>Nordrhein-Westfalen</td>\n",
       "    </tr>\n",
       "    <tr>\n",
       "      <th>390</th>\n",
       "      <td>2019-08-01 03:00:00+00:00</td>\n",
       "      <td>3</td>\n",
       "      <td>12.6</td>\n",
       "      <td>83.0</td>\n",
       "      <td>eor</td>\n",
       "      <td>2004-07-01</td>\n",
       "      <td>2022-03-09</td>\n",
       "      <td>610</td>\n",
       "      <td>50.9837</td>\n",
       "      <td>8.3683</td>\n",
       "      <td>Berleburg, Bad-Stünzel</td>\n",
       "      <td>Nordrhein-Westfalen</td>\n",
       "    </tr>\n",
       "    <tr>\n",
       "      <th>390</th>\n",
       "      <td>2019-08-01 04:00:00+00:00</td>\n",
       "      <td>3</td>\n",
       "      <td>12.7</td>\n",
       "      <td>83.0</td>\n",
       "      <td>eor</td>\n",
       "      <td>2004-07-01</td>\n",
       "      <td>2022-03-09</td>\n",
       "      <td>610</td>\n",
       "      <td>50.9837</td>\n",
       "      <td>8.3683</td>\n",
       "      <td>Berleburg, Bad-Stünzel</td>\n",
       "      <td>Nordrhein-Westfalen</td>\n",
       "    </tr>\n",
       "    <tr>\n",
       "      <th>390</th>\n",
       "      <td>2019-08-01 05:00:00+00:00</td>\n",
       "      <td>3</td>\n",
       "      <td>12.8</td>\n",
       "      <td>82.0</td>\n",
       "      <td>eor</td>\n",
       "      <td>2004-07-01</td>\n",
       "      <td>2022-03-09</td>\n",
       "      <td>610</td>\n",
       "      <td>50.9837</td>\n",
       "      <td>8.3683</td>\n",
       "      <td>Berleburg, Bad-Stünzel</td>\n",
       "      <td>Nordrhein-Westfalen</td>\n",
       "    </tr>\n",
       "  </tbody>\n",
       "</table>\n",
       "</div>"
      ],
      "text/plain": [
       "                   mess_datum  qn_9  tt_tu  rf_tu  eor  date_from    date_to  \\\n",
       "390 2019-08-01 01:00:00+00:00     3   13.0   79.0  eor 2004-07-01 2022-03-09   \n",
       "390 2019-08-01 02:00:00+00:00     3   12.5   82.0  eor 2004-07-01 2022-03-09   \n",
       "390 2019-08-01 03:00:00+00:00     3   12.6   83.0  eor 2004-07-01 2022-03-09   \n",
       "390 2019-08-01 04:00:00+00:00     3   12.7   83.0  eor 2004-07-01 2022-03-09   \n",
       "390 2019-08-01 05:00:00+00:00     3   12.8   82.0  eor 2004-07-01 2022-03-09   \n",
       "\n",
       "     altitude  latitude  longitude                    name  \\\n",
       "390       610   50.9837     8.3683  Berleburg, Bad-Stünzel   \n",
       "390       610   50.9837     8.3683  Berleburg, Bad-Stünzel   \n",
       "390       610   50.9837     8.3683  Berleburg, Bad-Stünzel   \n",
       "390       610   50.9837     8.3683  Berleburg, Bad-Stünzel   \n",
       "390       610   50.9837     8.3683  Berleburg, Bad-Stünzel   \n",
       "\n",
       "                   state  \n",
       "390  Nordrhein-Westfalen  \n",
       "390  Nordrhein-Westfalen  \n",
       "390  Nordrhein-Westfalen  \n",
       "390  Nordrhein-Westfalen  \n",
       "390  Nordrhein-Westfalen  "
      ]
     },
     "execution_count": 94,
     "metadata": {},
     "output_type": "execute_result"
    }
   ],
   "source": [
    "df_all.head()"
   ]
  },
  {
   "cell_type": "code",
   "execution_count": 95,
   "metadata": {},
   "outputs": [],
   "source": [
    "df_all.to_csv(local_ts_merged_dir + \"df_all.csv\",sep=\";\")"
   ]
  },
  {
   "cell_type": "code",
   "execution_count": 96,
   "metadata": {},
   "outputs": [
    {
     "data": {
      "text/plain": [
       "(510645, 12)"
      ]
     },
     "execution_count": 96,
     "metadata": {},
     "output_type": "execute_result"
    }
   ],
   "source": [
    "df_all.shape"
   ]
  },
  {
   "cell_type": "code",
   "execution_count": 97,
   "metadata": {},
   "outputs": [
    {
     "data": {
      "text/plain": [
       "Timestamp('2020-12-31 23:00:00+0000', tz='UTC')"
      ]
     },
     "execution_count": 97,
     "metadata": {},
     "output_type": "execute_result"
    }
   ],
   "source": [
    " df_all['mess_datum'].max()"
   ]
  },
  {
   "cell_type": "code",
   "execution_count": null,
   "metadata": {},
   "outputs": [],
   "source": []
  },
  {
   "cell_type": "code",
   "execution_count": null,
   "metadata": {},
   "outputs": [],
   "source": []
  }
 ],
 "metadata": {
  "kernelspec": {
   "display_name": "Python 3 (ipykernel)",
   "language": "python",
   "name": "python3"
  },
  "language_info": {
   "codemirror_mode": {
    "name": "ipython",
    "version": 3
   },
   "file_extension": ".py",
   "mimetype": "text/x-python",
   "name": "python",
   "nbconvert_exporter": "python",
   "pygments_lexer": "ipython3",
   "version": "3.8.12"
  }
 },
 "nbformat": 4,
 "nbformat_minor": 4
}
